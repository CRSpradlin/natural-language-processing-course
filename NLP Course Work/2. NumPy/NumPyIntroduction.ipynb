{
 "cells": [
  {
   "cell_type": "markdown",
   "id": "5ba84538-69d4-47e1-bbe2-5412e47118fc",
   "metadata": {},
   "source": [
    "# NumPy"
   ]
  },
  {
   "cell_type": "code",
   "execution_count": 1,
   "id": "75880319-e1f2-4537-b521-aec2d018db71",
   "metadata": {},
   "outputs": [],
   "source": [
    "import numpy as np"
   ]
  },
  {
   "cell_type": "markdown",
   "id": "e33b08b2-cc48-4229-9bd8-b9715fd19f52",
   "metadata": {},
   "source": [
    "### np.array()"
   ]
  },
  {
   "cell_type": "code",
   "execution_count": 2,
   "id": "760e65a6-f95c-46fe-8984-ebf59000dbc5",
   "metadata": {},
   "outputs": [],
   "source": [
    "l = [1, 2, 3, 4, 5]"
   ]
  },
  {
   "cell_type": "code",
   "execution_count": 3,
   "id": "49bbbe6c-6d9c-4061-ab4d-8a10b56ad07e",
   "metadata": {},
   "outputs": [],
   "source": [
    "npa = np.array(l)"
   ]
  },
  {
   "cell_type": "code",
   "execution_count": 4,
   "id": "e7997ad2-ae36-445c-aabe-e2972aac9f0e",
   "metadata": {},
   "outputs": [
    {
     "data": {
      "text/plain": [
       "(list, numpy.ndarray)"
      ]
     },
     "execution_count": 4,
     "metadata": {},
     "output_type": "execute_result"
    }
   ],
   "source": [
    "type(l), type(npa)"
   ]
  },
  {
   "cell_type": "code",
   "execution_count": 5,
   "id": "d4b1709c-2988-4a01-b20d-9b5619de971f",
   "metadata": {},
   "outputs": [
    {
     "data": {
      "text/plain": [
       "array([1, 2, 3, 4, 5])"
      ]
     },
     "execution_count": 5,
     "metadata": {},
     "output_type": "execute_result"
    }
   ],
   "source": [
    "npa"
   ]
  },
  {
   "cell_type": "code",
   "execution_count": 6,
   "id": "fb667a71-ca7d-4d8c-a4bc-20c262daa801",
   "metadata": {},
   "outputs": [
    {
     "data": {
      "text/plain": [
       "(5,)"
      ]
     },
     "execution_count": 6,
     "metadata": {},
     "output_type": "execute_result"
    }
   ],
   "source": [
    "npa.shape"
   ]
  },
  {
   "cell_type": "code",
   "execution_count": 7,
   "id": "e28de936-e45c-497a-9fc3-63b238c5d883",
   "metadata": {},
   "outputs": [],
   "source": [
    "l.append('string')"
   ]
  },
  {
   "cell_type": "code",
   "execution_count": 8,
   "id": "879f3c16-3a2b-4870-a8b2-4d2e9453e919",
   "metadata": {},
   "outputs": [],
   "source": [
    "npa = np.array(l)"
   ]
  },
  {
   "cell_type": "code",
   "execution_count": 9,
   "id": "edf6aa32-dd51-4fab-bb71-1c26305cf945",
   "metadata": {},
   "outputs": [
    {
     "data": {
      "text/plain": [
       "array(['1', '2', '3', '4', '5', 'string'], dtype='<U11')"
      ]
     },
     "execution_count": 9,
     "metadata": {},
     "output_type": "execute_result"
    }
   ],
   "source": [
    "npa"
   ]
  },
  {
   "cell_type": "code",
   "execution_count": 10,
   "id": "ab352244-dcbf-490e-b2b8-18f8d5440ce1",
   "metadata": {},
   "outputs": [],
   "source": [
    "l1 = [1, 4, 16]"
   ]
  },
  {
   "cell_type": "code",
   "execution_count": 11,
   "id": "d8c57ebc-5a7c-4960-b6e4-5570ed39bdc2",
   "metadata": {},
   "outputs": [
    {
     "data": {
      "text/plain": [
       "[1, 2, 3, 4, 5, 'string', 1, 4, 16]"
      ]
     },
     "execution_count": 11,
     "metadata": {},
     "output_type": "execute_result"
    }
   ],
   "source": [
    "l + l1"
   ]
  },
  {
   "cell_type": "code",
   "execution_count": 12,
   "id": "011e8135-7385-43f8-998d-5383a5bd19fe",
   "metadata": {},
   "outputs": [
    {
     "data": {
      "text/plain": [
       "array(['1', '2', '3', '4', '5', 'string', '1', '4', '16'], dtype='<U11')"
      ]
     },
     "execution_count": 12,
     "metadata": {},
     "output_type": "execute_result"
    }
   ],
   "source": [
    "np.array(l + l1)"
   ]
  },
  {
   "cell_type": "code",
   "execution_count": null,
   "id": "5cf67240-adf5-4e1e-b76b-f1a03bd7641e",
   "metadata": {},
   "outputs": [],
   "source": []
  },
  {
   "cell_type": "code",
   "execution_count": 13,
   "id": "30e59a07-e351-4ae3-b5e7-8d214ad8f18a",
   "metadata": {},
   "outputs": [],
   "source": [
    "l = [[1, 2], [3, 4], [5, 6]]"
   ]
  },
  {
   "cell_type": "code",
   "execution_count": 14,
   "id": "1ed4f483-18ff-4972-9045-8c34c920449d",
   "metadata": {},
   "outputs": [],
   "source": [
    "npa2d = np.array(l)"
   ]
  },
  {
   "cell_type": "code",
   "execution_count": 15,
   "id": "5143b7e8-2abc-4097-b411-fbad3134f949",
   "metadata": {},
   "outputs": [],
   "source": [
    "npa2d = np.array(l, dtype='float')"
   ]
  },
  {
   "cell_type": "code",
   "execution_count": 16,
   "id": "bc3e6d0b-b6c4-453c-b690-4ddce79545c9",
   "metadata": {},
   "outputs": [
    {
     "data": {
      "text/plain": [
       "array([[1., 2.],\n",
       "       [3., 4.],\n",
       "       [5., 6.]])"
      ]
     },
     "execution_count": 16,
     "metadata": {},
     "output_type": "execute_result"
    }
   ],
   "source": [
    "npa2d"
   ]
  },
  {
   "cell_type": "code",
   "execution_count": 17,
   "id": "77d88a13-aa02-44fd-8fc3-680f620420dc",
   "metadata": {},
   "outputs": [],
   "source": [
    "npa2d = np.array(l).astype('str')"
   ]
  },
  {
   "cell_type": "code",
   "execution_count": 18,
   "id": "5c66d72e-934d-4a95-abef-b465bd40ec59",
   "metadata": {},
   "outputs": [
    {
     "data": {
      "text/plain": [
       "array([['1', '2'],\n",
       "       ['3', '4'],\n",
       "       ['5', '6']], dtype='<U11')"
      ]
     },
     "execution_count": 18,
     "metadata": {},
     "output_type": "execute_result"
    }
   ],
   "source": [
    "npa2d"
   ]
  },
  {
   "cell_type": "code",
   "execution_count": null,
   "id": "75d88936-6a12-4e50-b3e5-9dcc391343fc",
   "metadata": {},
   "outputs": [],
   "source": []
  },
  {
   "cell_type": "markdown",
   "id": "3af2df3b-e4aa-4645-a365-9056e06a3e5e",
   "metadata": {},
   "source": [
    "### `np.nan` and `np.inf`"
   ]
  },
  {
   "cell_type": "code",
   "execution_count": 19,
   "id": "bff23ddc-3616-4945-b031-3c4d0859ef48",
   "metadata": {},
   "outputs": [
    {
     "data": {
      "text/plain": [
       "False"
      ]
     },
     "execution_count": 19,
     "metadata": {},
     "output_type": "execute_result"
    }
   ],
   "source": [
    "np.nan == np.nan"
   ]
  },
  {
   "cell_type": "code",
   "execution_count": 20,
   "id": "8bf74a8a-b4b5-42a8-9894-34db940ea568",
   "metadata": {},
   "outputs": [
    {
     "data": {
      "text/plain": [
       "True"
      ]
     },
     "execution_count": 20,
     "metadata": {},
     "output_type": "execute_result"
    }
   ],
   "source": [
    "None == None"
   ]
  },
  {
   "cell_type": "code",
   "execution_count": 21,
   "id": "2b4ea0b1-8565-476a-8028-983735eae9a0",
   "metadata": {},
   "outputs": [
    {
     "data": {
      "text/plain": [
       "True"
      ]
     },
     "execution_count": 21,
     "metadata": {},
     "output_type": "execute_result"
    }
   ],
   "source": [
    "np.inf == np.inf"
   ]
  },
  {
   "cell_type": "code",
   "execution_count": 22,
   "id": "f487757e-2a43-4bb1-b3e6-eb8f54deac42",
   "metadata": {},
   "outputs": [],
   "source": [
    "npa2d = npa2d.astype(\"int\")"
   ]
  },
  {
   "cell_type": "code",
   "execution_count": 23,
   "id": "fc41a33a-80c1-4d19-9cd0-bd7207049ec2",
   "metadata": {},
   "outputs": [
    {
     "data": {
      "text/plain": [
       "array([[1, 2],\n",
       "       [3, 4],\n",
       "       [5, 6]])"
      ]
     },
     "execution_count": 23,
     "metadata": {},
     "output_type": "execute_result"
    }
   ],
   "source": [
    "npa2d"
   ]
  },
  {
   "cell_type": "code",
   "execution_count": 24,
   "id": "12d721be-cf24-40a5-9ce9-28df4300bc9e",
   "metadata": {},
   "outputs": [
    {
     "data": {
      "text/plain": [
       "array([[nan,  2.],\n",
       "       [ 3.,  4.],\n",
       "       [ 5.,  6.]])"
      ]
     },
     "execution_count": 24,
     "metadata": {},
     "output_type": "execute_result"
    }
   ],
   "source": [
    "# npa2d[0, 0] = np.nan # Throws error\n",
    "npa2d = npa2d.astype(\"float\")\n",
    "npa2d[0, 0] = np.nan # No longer throws error\n",
    "npa2d"
   ]
  },
  {
   "cell_type": "code",
   "execution_count": 25,
   "id": "b681a62b-b1d3-4a5c-a855-66369cdb3939",
   "metadata": {},
   "outputs": [],
   "source": [
    "npa2d[2, 1] = np.inf"
   ]
  },
  {
   "cell_type": "code",
   "execution_count": 26,
   "id": "30bc1110-d740-4148-b267-5edca2c07ffd",
   "metadata": {},
   "outputs": [],
   "source": [
    "flag = np.isnan(npa2d)"
   ]
  },
  {
   "cell_type": "code",
   "execution_count": 27,
   "id": "75b9bb6c-a126-41c9-bd89-4a55bbad62a1",
   "metadata": {},
   "outputs": [
    {
     "data": {
      "text/plain": [
       "array([[ True, False],\n",
       "       [False, False],\n",
       "       [False, False]])"
      ]
     },
     "execution_count": 27,
     "metadata": {},
     "output_type": "execute_result"
    }
   ],
   "source": [
    "flag"
   ]
  },
  {
   "cell_type": "code",
   "execution_count": 28,
   "id": "15ebe595-62ea-42fb-8ce9-3804577030b0",
   "metadata": {},
   "outputs": [
    {
     "data": {
      "text/plain": [
       "array([[False, False],\n",
       "       [False, False],\n",
       "       [False,  True]])"
      ]
     },
     "execution_count": 28,
     "metadata": {},
     "output_type": "execute_result"
    }
   ],
   "source": [
    "flag = np.isinf(npa2d)\n",
    "flag"
   ]
  },
  {
   "cell_type": "markdown",
   "id": "63dfcf03-579e-465d-8b0e-8ba3f07e833d",
   "metadata": {},
   "source": [
    "### Statistical Operations"
   ]
  },
  {
   "cell_type": "code",
   "execution_count": 29,
   "id": "bc722de6-7e91-43d9-b063-3ad0c3942906",
   "metadata": {},
   "outputs": [],
   "source": [
    "# mean(mean), variance(var), standard deviation(std), median(med)"
   ]
  },
  {
   "cell_type": "code",
   "execution_count": 30,
   "id": "8b259fcf-6134-4cd3-b3af-6e1ec9ebd0a4",
   "metadata": {},
   "outputs": [
    {
     "data": {
      "text/plain": [
       "nan"
      ]
     },
     "execution_count": 30,
     "metadata": {},
     "output_type": "execute_result"
    }
   ],
   "source": [
    "npa2d.mean()"
   ]
  },
  {
   "cell_type": "code",
   "execution_count": 31,
   "id": "0c052f89-0936-4cb6-8051-c5214c7789c4",
   "metadata": {},
   "outputs": [
    {
     "data": {
      "text/plain": [
       "array([[1, 2],\n",
       "       [3, 4],\n",
       "       [5, 6]])"
      ]
     },
     "execution_count": 31,
     "metadata": {},
     "output_type": "execute_result"
    }
   ],
   "source": [
    "npa2d[0, 0] = 1\n",
    "npa2d[2, 1] = 6\n",
    "npa2d = npa2d.astype(\"int\")\n",
    "npa2d"
   ]
  },
  {
   "cell_type": "code",
   "execution_count": 32,
   "id": "1a3e6ccc-f41e-49d4-b229-122682ad08e4",
   "metadata": {},
   "outputs": [
    {
     "data": {
      "text/plain": [
       "3.5"
      ]
     },
     "execution_count": 32,
     "metadata": {},
     "output_type": "execute_result"
    }
   ],
   "source": [
    "npa2d.mean()"
   ]
  },
  {
   "cell_type": "code",
   "execution_count": 33,
   "id": "7ce5c74c-fa4d-478a-bf79-8727b80a7f31",
   "metadata": {},
   "outputs": [
    {
     "data": {
      "text/plain": [
       "2.9166666666666665"
      ]
     },
     "execution_count": 33,
     "metadata": {},
     "output_type": "execute_result"
    }
   ],
   "source": [
    "npa2d.var()"
   ]
  },
  {
   "cell_type": "code",
   "execution_count": 34,
   "id": "2e5d694b-1652-44a5-9e63-7dc7902750b8",
   "metadata": {},
   "outputs": [
    {
     "data": {
      "text/plain": [
       "1.707825127659933"
      ]
     },
     "execution_count": 34,
     "metadata": {},
     "output_type": "execute_result"
    }
   ],
   "source": [
    "npa2d.std()"
   ]
  },
  {
   "cell_type": "code",
   "execution_count": 35,
   "id": "6c47603c-5bae-4a43-a10c-39fb05c8a72b",
   "metadata": {},
   "outputs": [
    {
     "data": {
      "text/plain": [
       "6"
      ]
     },
     "execution_count": 35,
     "metadata": {},
     "output_type": "execute_result"
    }
   ],
   "source": [
    "npa2d.max()"
   ]
  },
  {
   "cell_type": "code",
   "execution_count": 36,
   "id": "5407da7d-c187-47b4-996a-5cb5b4939c53",
   "metadata": {},
   "outputs": [
    {
     "data": {
      "text/plain": [
       "1"
      ]
     },
     "execution_count": 36,
     "metadata": {},
     "output_type": "execute_result"
    }
   ],
   "source": [
    "npa2d.min()"
   ]
  },
  {
   "cell_type": "code",
   "execution_count": 37,
   "id": "17abcb27-9dad-4460-b72d-bb78a8a17141",
   "metadata": {},
   "outputs": [
    {
     "data": {
      "text/plain": [
       "3.5"
      ]
     },
     "execution_count": 37,
     "metadata": {},
     "output_type": "execute_result"
    }
   ],
   "source": [
    "np.median(npa2d)"
   ]
  },
  {
   "cell_type": "markdown",
   "id": "75c99d19-ebf8-4cbf-9659-ae9253c45bc6",
   "metadata": {},
   "source": [
    "### Shape, Reshape, Ravel"
   ]
  },
  {
   "cell_type": "code",
   "execution_count": 38,
   "id": "9a5af0cf-7456-4ede-9b47-b4dce38a5431",
   "metadata": {},
   "outputs": [
    {
     "data": {
      "text/plain": [
       "array([[1, 2],\n",
       "       [3, 4],\n",
       "       [5, 6]])"
      ]
     },
     "execution_count": 38,
     "metadata": {},
     "output_type": "execute_result"
    }
   ],
   "source": [
    "npa2d"
   ]
  },
  {
   "cell_type": "code",
   "execution_count": 39,
   "id": "6c6c6c3b-95bb-4fa0-a0c7-f363edba5e11",
   "metadata": {},
   "outputs": [
    {
     "data": {
      "text/plain": [
       "(3, 2)"
      ]
     },
     "execution_count": 39,
     "metadata": {},
     "output_type": "execute_result"
    }
   ],
   "source": [
    "npa2d.shape"
   ]
  },
  {
   "cell_type": "code",
   "execution_count": 40,
   "id": "a08da8a5-dd24-485c-90c4-c9ff9b2b2ce0",
   "metadata": {},
   "outputs": [
    {
     "data": {
      "text/plain": [
       "array([[1, 2, 3, 4, 5, 6]])"
      ]
     },
     "execution_count": 40,
     "metadata": {},
     "output_type": "execute_result"
    }
   ],
   "source": [
    "# npa2d.reshape(1, 3) # Will throw since size of reshape does not equal the original shape.\n",
    "npa2d.reshape(1, 6)\n"
   ]
  },
  {
   "cell_type": "code",
   "execution_count": 41,
   "id": "652613d0-c8a5-4f38-b273-05e94d41e390",
   "metadata": {},
   "outputs": [
    {
     "data": {
      "text/plain": [
       "array([1, 2, 3, 4, 5, 6])"
      ]
     },
     "execution_count": 41,
     "metadata": {},
     "output_type": "execute_result"
    }
   ],
   "source": [
    "npa2d.reshape(1, 6).ravel()"
   ]
  },
  {
   "cell_type": "code",
   "execution_count": 42,
   "id": "322fd36e-7c9b-4c82-a814-354bdb8c2dc0",
   "metadata": {},
   "outputs": [
    {
     "data": {
      "text/plain": [
       "array([1, 2, 3, 4, 5, 6])"
      ]
     },
     "execution_count": 42,
     "metadata": {},
     "output_type": "execute_result"
    }
   ],
   "source": [
    "npa2d.flatten()"
   ]
  },
  {
   "cell_type": "code",
   "execution_count": 43,
   "id": "55c40d2d-6ded-4ec3-8f8f-1ef6dca25df8",
   "metadata": {},
   "outputs": [
    {
     "data": {
      "text/plain": [
       "array([[1, 2],\n",
       "       [3, 4],\n",
       "       [5, 6]])"
      ]
     },
     "execution_count": 43,
     "metadata": {},
     "output_type": "execute_result"
    }
   ],
   "source": [
    "npa2d"
   ]
  },
  {
   "cell_type": "markdown",
   "id": "892c1c8a-9b1d-4e65-97c2-473718389d53",
   "metadata": {},
   "source": [
    "### Sequence, Repetitions, and Random Numbers"
   ]
  },
  {
   "cell_type": "code",
   "execution_count": 44,
   "id": "e21f2890-bb46-4f66-8ad6-84c38a22af48",
   "metadata": {},
   "outputs": [
    {
     "data": {
      "text/plain": [
       "array([1, 2, 3, 4])"
      ]
     },
     "execution_count": 44,
     "metadata": {},
     "output_type": "execute_result"
    }
   ],
   "source": [
    "np.arange(1, 5) # np a-range -> Array Range"
   ]
  },
  {
   "cell_type": "code",
   "execution_count": 45,
   "id": "df3e6808-3125-4880-8228-49924e8ed46c",
   "metadata": {},
   "outputs": [
    {
     "data": {
      "text/plain": [
       "array([1., 2., 3., 4.])"
      ]
     },
     "execution_count": 45,
     "metadata": {},
     "output_type": "execute_result"
    }
   ],
   "source": [
    "np.arange(1, 5, dtype = \"float\") # np a-range -> Array Range"
   ]
  },
  {
   "cell_type": "code",
   "execution_count": 46,
   "id": "5030c6d0-fd91-404f-99c1-0447bbd2b9c0",
   "metadata": {},
   "outputs": [
    {
     "data": {
      "text/plain": [
       "array([ 0,  3,  6,  9, 12, 15, 18, 21, 24])"
      ]
     },
     "execution_count": 46,
     "metadata": {},
     "output_type": "execute_result"
    }
   ],
   "source": [
    "np.arange(0, 27, 3)"
   ]
  },
  {
   "cell_type": "code",
   "execution_count": 47,
   "id": "14b48545-11e7-4544-bce8-cf3d9a9d2e61",
   "metadata": {},
   "outputs": [
    {
     "data": {
      "text/plain": [
       "array([ 1. , 10.5, 20. ])"
      ]
     },
     "execution_count": 47,
     "metadata": {},
     "output_type": "execute_result"
    }
   ],
   "source": [
    "np.linspace(1, 20, 3) # start, end, number of numbers equally spaced from one another (linear space)"
   ]
  },
  {
   "cell_type": "code",
   "execution_count": 48,
   "id": "4bc06e2c-d3e4-4dbd-a57a-216b23cff21c",
   "metadata": {},
   "outputs": [
    {
     "data": {
      "text/plain": [
       "array([ 0.        ,  0.41666667,  0.83333333,  1.25      ,  1.66666667,\n",
       "        2.08333333,  2.5       ,  2.91666667,  3.33333333,  3.75      ,\n",
       "        4.16666667,  4.58333333,  5.        ,  5.41666667,  5.83333333,\n",
       "        6.25      ,  6.66666667,  7.08333333,  7.5       ,  7.91666667,\n",
       "        8.33333333,  8.75      ,  9.16666667,  9.58333333, 10.        ])"
      ]
     },
     "execution_count": 48,
     "metadata": {},
     "output_type": "execute_result"
    }
   ],
   "source": [
    "np.linspace(0, 10, 25)"
   ]
  },
  {
   "cell_type": "code",
   "execution_count": 49,
   "id": "9c296553-148d-429a-a790-0851eff513a7",
   "metadata": {},
   "outputs": [
    {
     "data": {
      "text/plain": [
       "array([1.00000000e+01, 2.78255940e+06, 7.74263683e+11, 2.15443469e+17,\n",
       "       5.99484250e+22, 1.66810054e+28, 4.64158883e+33, 1.29154967e+39,\n",
       "       3.59381366e+44, 1.00000000e+50])"
      ]
     },
     "execution_count": 49,
     "metadata": {},
     "output_type": "execute_result"
    }
   ],
   "source": [
    "np.logspace(1, 50, 10) # start, end, number of nubmer within a log spacing"
   ]
  },
  {
   "cell_type": "code",
   "execution_count": 50,
   "id": "9c827421-9f8c-4bb5-aabd-a5dcd23f19b0",
   "metadata": {},
   "outputs": [
    {
     "data": {
      "text/plain": [
       "array([[0., 0., 0., 0., 0.],\n",
       "       [0., 0., 0., 0., 0.],\n",
       "       [0., 0., 0., 0., 0.],\n",
       "       [0., 0., 0., 0., 0.],\n",
       "       [0., 0., 0., 0., 0.]])"
      ]
     },
     "execution_count": 50,
     "metadata": {},
     "output_type": "execute_result"
    }
   ],
   "source": [
    "np.zeros([5, 5])"
   ]
  },
  {
   "cell_type": "code",
   "execution_count": 51,
   "id": "5491a7d4-364b-4060-adbf-c149059bbd9f",
   "metadata": {},
   "outputs": [
    {
     "data": {
      "text/plain": [
       "array([[1, 1, 1, 1, 1],\n",
       "       [1, 1, 1, 1, 1],\n",
       "       [1, 1, 1, 1, 1],\n",
       "       [1, 1, 1, 1, 1],\n",
       "       [1, 1, 1, 1, 1]])"
      ]
     },
     "execution_count": 51,
     "metadata": {},
     "output_type": "execute_result"
    }
   ],
   "source": [
    "np.ones([5, 5]).astype(\"int\")"
   ]
  },
  {
   "cell_type": "code",
   "execution_count": 52,
   "id": "b5aca02c-1ece-40c0-aa62-bce9caff56fa",
   "metadata": {},
   "outputs": [
    {
     "data": {
      "text/plain": [
       "array([1, 2, 1, 2, 1, 2])"
      ]
     },
     "execution_count": 52,
     "metadata": {},
     "output_type": "execute_result"
    }
   ],
   "source": [
    "np.tile([1, 2], 3) # Repeat a pattern a certain number of times"
   ]
  },
  {
   "cell_type": "code",
   "execution_count": 53,
   "id": "902fc9ce-9ded-4d34-905f-744a53f5af0d",
   "metadata": {},
   "outputs": [
    {
     "data": {
      "text/plain": [
       "array([1, 1, 1, 2, 2, 2])"
      ]
     },
     "execution_count": 53,
     "metadata": {},
     "output_type": "execute_result"
    }
   ],
   "source": [
    "np.repeat([1, 2], 3)"
   ]
  },
  {
   "cell_type": "code",
   "execution_count": 54,
   "id": "95d03d01-7e15-49d4-b23c-3c95e76cf331",
   "metadata": {},
   "outputs": [
    {
     "data": {
      "text/plain": [
       "array([[4.64537212e-01, 1.53339091e-01, 6.83229361e-01],\n",
       "       [2.63378832e-01, 3.76119653e-01, 3.56385063e-01],\n",
       "       [6.55901072e-04, 8.35522957e-01, 6.94060183e-01]])"
      ]
     },
     "execution_count": 54,
     "metadata": {},
     "output_type": "execute_result"
    }
   ],
   "source": [
    "np.random.rand(3, 3) # 3 by 3 grid of random numbers between 0 and 1"
   ]
  },
  {
   "cell_type": "code",
   "execution_count": 55,
   "id": "c546985c-8137-439b-9c43-7b0d7bc535f2",
   "metadata": {},
   "outputs": [
    {
     "data": {
      "text/plain": [
       "array([[0, 1, 5, 3, 3],\n",
       "       [2, 3, 7, 0, 5],\n",
       "       [6, 0, 9, 8, 8],\n",
       "       [8, 0, 0, 2, 9],\n",
       "       [0, 7, 6, 3, 9]])"
      ]
     },
     "execution_count": 55,
     "metadata": {},
     "output_type": "execute_result"
    }
   ],
   "source": [
    "np.random.randint(0, 10, [5, 5])"
   ]
  },
  {
   "cell_type": "code",
   "execution_count": 56,
   "id": "040a6a1d-10a8-447e-9b63-315c60fe19c7",
   "metadata": {},
   "outputs": [
    {
     "data": {
      "text/plain": [
       "1"
      ]
     },
     "execution_count": 56,
     "metadata": {},
     "output_type": "execute_result"
    }
   ],
   "source": [
    "np.random.randint(0, 10)"
   ]
  },
  {
   "cell_type": "code",
   "execution_count": 57,
   "id": "209e1e0f-d087-4035-81f1-a5c050a2b46d",
   "metadata": {},
   "outputs": [],
   "source": [
    "np.random.seed(1)"
   ]
  },
  {
   "cell_type": "code",
   "execution_count": 58,
   "id": "5f583e57-3262-4679-a054-59344dc1f82d",
   "metadata": {},
   "outputs": [
    {
     "data": {
      "text/plain": [
       "array([[37, 12, 72,  9, 75],\n",
       "       [ 5, 79, 64, 16,  1],\n",
       "       [76, 71,  6, 25, 50],\n",
       "       [20, 18, 84, 11, 28],\n",
       "       [29, 14, 50, 68, 87]])"
      ]
     },
     "execution_count": 58,
     "metadata": {},
     "output_type": "execute_result"
    }
   ],
   "source": [
    "np.random.randint(0, 100, [5,5])"
   ]
  },
  {
   "cell_type": "code",
   "execution_count": 59,
   "id": "a7788f8e-5882-49d8-9f00-ec58d802d2b6",
   "metadata": {},
   "outputs": [
    {
     "data": {
      "text/plain": [
       "array([1, 2, 3, 4, 5, 6])"
      ]
     },
     "execution_count": 59,
     "metadata": {},
     "output_type": "execute_result"
    }
   ],
   "source": [
    "np.unique(npa2d)"
   ]
  },
  {
   "cell_type": "code",
   "execution_count": 60,
   "id": "51b0e9e9-6433-46c0-a46b-d7c2ccf57bfd",
   "metadata": {},
   "outputs": [
    {
     "data": {
      "text/plain": [
       "(array([1, 2, 3, 4, 5, 6]), array([1, 1, 1, 1, 1, 1], dtype=int64))"
      ]
     },
     "execution_count": 60,
     "metadata": {},
     "output_type": "execute_result"
    }
   ],
   "source": [
    "np.unique(npa2d, return_counts=True) # Returns all numbers present in the array (only one member for duplicates). You can check the count by adding the return_counts arg"
   ]
  },
  {
   "cell_type": "markdown",
   "id": "506a7d1b-48ca-4cde-9b9d-0a4261190d0a",
   "metadata": {},
   "source": [
    "# Where()"
   ]
  },
  {
   "cell_type": "code",
   "execution_count": 61,
   "id": "bc03eb5b-041a-4723-95b9-a5f94e28917d",
   "metadata": {},
   "outputs": [],
   "source": [
    "arr = np.array([1,2,3,4,5,6,7,8])"
   ]
  },
  {
   "cell_type": "code",
   "execution_count": 62,
   "id": "e9c072b5-39e7-4b52-8303-7998aba673ce",
   "metadata": {},
   "outputs": [
    {
     "data": {
      "text/plain": [
       "array([1, 2, 3, 4, 5, 6, 7, 8])"
      ]
     },
     "execution_count": 62,
     "metadata": {},
     "output_type": "execute_result"
    }
   ],
   "source": [
    "arr"
   ]
  },
  {
   "cell_type": "code",
   "execution_count": 66,
   "id": "0c73ea71-08a8-498b-a78b-6cb2c650d22d",
   "metadata": {},
   "outputs": [
    {
     "data": {
      "text/plain": [
       "array([4, 5, 6, 7, 8])"
      ]
     },
     "execution_count": 66,
     "metadata": {},
     "output_type": "execute_result"
    }
   ],
   "source": [
    "indexs = np.where(arr > 3)\n",
    "arr[indexs]"
   ]
  },
  {
   "cell_type": "code",
   "execution_count": 68,
   "id": "bdcad0a6-40fe-493b-a1a6-cf070b4d387f",
   "metadata": {},
   "outputs": [
    {
     "data": {
      "text/plain": [
       "array([False, False, False,  True,  True,  True,  True,  True])"
      ]
     },
     "execution_count": 68,
     "metadata": {},
     "output_type": "execute_result"
    }
   ],
   "source": [
    "arr>3"
   ]
  },
  {
   "cell_type": "code",
   "execution_count": 67,
   "id": "462bbf51-89c6-4bd6-ab7a-31f240192436",
   "metadata": {},
   "outputs": [
    {
     "data": {
      "text/plain": [
       "array([4, 5, 6, 7, 8])"
      ]
     },
     "execution_count": 67,
     "metadata": {},
     "output_type": "execute_result"
    }
   ],
   "source": [
    "arr[arr>3]"
   ]
  },
  {
   "cell_type": "code",
   "execution_count": 69,
   "id": "bb0f945e-f4a0-49b4-99d5-b14765a73bed",
   "metadata": {},
   "outputs": [
    {
     "data": {
      "text/plain": [
       "8"
      ]
     },
     "execution_count": 69,
     "metadata": {},
     "output_type": "execute_result"
    }
   ],
   "source": [
    "arr.max()"
   ]
  },
  {
   "cell_type": "code",
   "execution_count": 70,
   "id": "ebddd728-f153-4689-83d0-a691959fe106",
   "metadata": {},
   "outputs": [
    {
     "data": {
      "text/plain": [
       "7"
      ]
     },
     "execution_count": 70,
     "metadata": {},
     "output_type": "execute_result"
    }
   ],
   "source": [
    "arr.argmax()"
   ]
  },
  {
   "cell_type": "code",
   "execution_count": 72,
   "id": "0d94ea4f-8eae-47cf-81c3-0df8813edfaf",
   "metadata": {},
   "outputs": [
    {
     "data": {
      "text/plain": [
       "1"
      ]
     },
     "execution_count": 72,
     "metadata": {},
     "output_type": "execute_result"
    }
   ],
   "source": [
    "arr.min()"
   ]
  },
  {
   "cell_type": "code",
   "execution_count": 71,
   "id": "56b2f9a0-87c1-4c3f-8c05-d62886f40a56",
   "metadata": {},
   "outputs": [
    {
     "data": {
      "text/plain": [
       "0"
      ]
     },
     "execution_count": 71,
     "metadata": {},
     "output_type": "execute_result"
    }
   ],
   "source": [
    "arr.argmin()"
   ]
  },
  {
   "cell_type": "markdown",
   "id": "b572177c-2d2f-49e5-b7fa-d0bd1c6f99f7",
   "metadata": {},
   "source": [
    "# File Read and Write"
   ]
  },
  {
   "cell_type": "code",
   "execution_count": 73,
   "id": "645be863-1a71-4a36-b8b2-f8840ed228fe",
   "metadata": {},
   "outputs": [
    {
     "data": {
      "text/plain": [
       "array([[1, 2],\n",
       "       [3, 4],\n",
       "       [5, 6]])"
      ]
     },
     "execution_count": 73,
     "metadata": {},
     "output_type": "execute_result"
    }
   ],
   "source": [
    "npa2d"
   ]
  },
  {
   "cell_type": "code",
   "execution_count": 74,
   "id": "e348dfd2-adae-4c66-9e52-37b9461847bf",
   "metadata": {},
   "outputs": [],
   "source": [
    "np.savetxt('npa2d.csv', npa2d, delimiter=',')"
   ]
  },
  {
   "cell_type": "code",
   "execution_count": 75,
   "id": "05a18764-6481-4f31-8fde-8d777e300cdf",
   "metadata": {},
   "outputs": [
    {
     "data": {
      "text/plain": [
       "array([[1., 2.],\n",
       "       [3., 4.],\n",
       "       [5., 6.]])"
      ]
     },
     "execution_count": 75,
     "metadata": {},
     "output_type": "execute_result"
    }
   ],
   "source": [
    "np.loadtxt('npa2d.csv', delimiter=',')"
   ]
  },
  {
   "cell_type": "code",
   "execution_count": null,
   "id": "ad003633-3d72-4802-92f4-755706175c46",
   "metadata": {},
   "outputs": [],
   "source": []
  },
  {
   "cell_type": "code",
   "execution_count": 76,
   "id": "710fa976-ebfc-460c-93f0-033685b90763",
   "metadata": {},
   "outputs": [],
   "source": [
    "np.save('data.npy', npa2d)"
   ]
  },
  {
   "cell_type": "code",
   "execution_count": 77,
   "id": "75b98882-31e6-42f1-808e-73304a8ecc7e",
   "metadata": {},
   "outputs": [
    {
     "data": {
      "text/plain": [
       "array([[1, 2],\n",
       "       [3, 4],\n",
       "       [5, 6]])"
      ]
     },
     "execution_count": 77,
     "metadata": {},
     "output_type": "execute_result"
    }
   ],
   "source": [
    "np.load('data.npy')"
   ]
  },
  {
   "cell_type": "code",
   "execution_count": 78,
   "id": "82e0e076-90e7-4a48-be44-79ec8c1fb2b9",
   "metadata": {},
   "outputs": [],
   "source": [
    "np.savez('both.npz', arr, npa2d)"
   ]
  },
  {
   "cell_type": "code",
   "execution_count": 80,
   "id": "e7dea762-34fc-46fd-b09b-8313f818612a",
   "metadata": {},
   "outputs": [
    {
     "data": {
      "text/plain": [
       "NpzFile 'both.npz' with keys: arr_0, arr_1"
      ]
     },
     "execution_count": 80,
     "metadata": {},
     "output_type": "execute_result"
    }
   ],
   "source": [
    "np.load('both.npz')"
   ]
  },
  {
   "cell_type": "code",
   "execution_count": 81,
   "id": "2bfaa40e-c02c-4da0-a641-d1f373929578",
   "metadata": {},
   "outputs": [],
   "source": [
    "d = np.load('both.npz')"
   ]
  },
  {
   "cell_type": "code",
   "execution_count": 83,
   "id": "a3b4f23a-2aa1-4a2b-9f81-955182a86ccb",
   "metadata": {},
   "outputs": [
    {
     "data": {
      "text/plain": [
       "array([1, 2, 3, 4, 5, 6, 7, 8])"
      ]
     },
     "execution_count": 83,
     "metadata": {},
     "output_type": "execute_result"
    }
   ],
   "source": [
    "d['arr_0']"
   ]
  },
  {
   "cell_type": "code",
   "execution_count": 85,
   "id": "bd206113-c631-4b8b-b8ae-b4c59f976712",
   "metadata": {},
   "outputs": [
    {
     "data": {
      "text/plain": [
       "array([[1, 2],\n",
       "       [3, 4],\n",
       "       [5, 6]])"
      ]
     },
     "execution_count": 85,
     "metadata": {},
     "output_type": "execute_result"
    }
   ],
   "source": [
    "d['arr_1']"
   ]
  },
  {
   "cell_type": "markdown",
   "id": "78aad5a6-44a9-41aa-b32c-a414fac5cc3b",
   "metadata": {},
   "source": [
    "# Concatenate and Sorting"
   ]
  },
  {
   "cell_type": "code",
   "execution_count": 86,
   "id": "9189aa48-9a0d-43dd-bead-f48770518f85",
   "metadata": {},
   "outputs": [
    {
     "data": {
      "text/plain": [
       "array([[1, 2],\n",
       "       [3, 4],\n",
       "       [5, 6]])"
      ]
     },
     "execution_count": 86,
     "metadata": {},
     "output_type": "execute_result"
    }
   ],
   "source": [
    "npa2d"
   ]
  },
  {
   "cell_type": "code",
   "execution_count": 87,
   "id": "bb7e35db-d0d3-4816-b2d0-778391f3ec02",
   "metadata": {},
   "outputs": [
    {
     "data": {
      "text/plain": [
       "array([[1, 2],\n",
       "       [3, 4],\n",
       "       [5, 6],\n",
       "       [1, 2],\n",
       "       [3, 4],\n",
       "       [5, 6]])"
      ]
     },
     "execution_count": 87,
     "metadata": {},
     "output_type": "execute_result"
    }
   ],
   "source": [
    "np.concatenate([npa2d, npa2d], axis = 0)"
   ]
  },
  {
   "cell_type": "code",
   "execution_count": 88,
   "id": "24c0dc53-1d37-48c6-9cab-ac81267df7c6",
   "metadata": {},
   "outputs": [
    {
     "data": {
      "text/plain": [
       "array([[1, 2, 1, 2],\n",
       "       [3, 4, 3, 4],\n",
       "       [5, 6, 5, 6]])"
      ]
     },
     "execution_count": 88,
     "metadata": {},
     "output_type": "execute_result"
    }
   ],
   "source": [
    "np.concatenate([npa2d, npa2d], axis = 1)"
   ]
  },
  {
   "cell_type": "code",
   "execution_count": 90,
   "id": "01021f67-2333-495e-a033-2b09598f764a",
   "metadata": {},
   "outputs": [],
   "source": [
    "# Both arrays need to be the same size for concatenate to work"
   ]
  },
  {
   "cell_type": "code",
   "execution_count": 91,
   "id": "1dad0989-28eb-4516-a929-b6e65034e953",
   "metadata": {},
   "outputs": [
    {
     "data": {
      "text/plain": [
       "array([[1, 2],\n",
       "       [3, 4],\n",
       "       [5, 6],\n",
       "       [1, 2],\n",
       "       [3, 4],\n",
       "       [5, 6]])"
      ]
     },
     "execution_count": 91,
     "metadata": {},
     "output_type": "execute_result"
    }
   ],
   "source": [
    "np.vstack([npa2d, npa2d])"
   ]
  },
  {
   "cell_type": "code",
   "execution_count": 92,
   "id": "f1d67507-52c3-4602-b20f-a4b6b40a5af3",
   "metadata": {},
   "outputs": [
    {
     "data": {
      "text/plain": [
       "array([[1, 2, 1, 2],\n",
       "       [3, 4, 3, 4],\n",
       "       [5, 6, 5, 6]])"
      ]
     },
     "execution_count": 92,
     "metadata": {},
     "output_type": "execute_result"
    }
   ],
   "source": [
    "np.hstack([npa2d, npa2d])"
   ]
  },
  {
   "cell_type": "code",
   "execution_count": 93,
   "id": "591eeb74-5231-49fa-99b0-197012c73993",
   "metadata": {},
   "outputs": [],
   "source": [
    "npa = np.hstack([npa2d, npa2d])"
   ]
  },
  {
   "cell_type": "code",
   "execution_count": 94,
   "id": "ce195a1d-adcf-4a6a-8ee4-6426a9a9cc9d",
   "metadata": {},
   "outputs": [],
   "source": [
    "npa.sort()"
   ]
  },
  {
   "cell_type": "code",
   "execution_count": 95,
   "id": "9d601f86-2d89-4bc4-b9cc-1ac140bffc05",
   "metadata": {},
   "outputs": [
    {
     "data": {
      "text/plain": [
       "array([[1, 1, 2, 2],\n",
       "       [3, 3, 4, 4],\n",
       "       [5, 5, 6, 6]])"
      ]
     },
     "execution_count": 95,
     "metadata": {},
     "output_type": "execute_result"
    }
   ],
   "source": [
    "npa"
   ]
  },
  {
   "cell_type": "markdown",
   "id": "48c67641-8564-470a-8ec5-278ba3e544f8",
   "metadata": {},
   "source": [
    "# Working with Dates"
   ]
  },
  {
   "cell_type": "code",
   "execution_count": 96,
   "id": "fa0c7d24-c4fd-476e-89be-c7fd8f766feb",
   "metadata": {},
   "outputs": [],
   "source": [
    "d = np.datetime64('2024-04-19 12:00:00')"
   ]
  },
  {
   "cell_type": "code",
   "execution_count": 97,
   "id": "a5820e18-31c3-46e1-ab8d-53e13c1c91bd",
   "metadata": {},
   "outputs": [
    {
     "data": {
      "text/plain": [
       "numpy.datetime64('2024-04-19T12:00:00')"
      ]
     },
     "execution_count": 97,
     "metadata": {},
     "output_type": "execute_result"
    }
   ],
   "source": [
    "d"
   ]
  },
  {
   "cell_type": "code",
   "execution_count": 98,
   "id": "03c148f0-ef1e-465a-8644-ecbed6e764c5",
   "metadata": {},
   "outputs": [
    {
     "data": {
      "text/plain": [
       "numpy.datetime64('2024-04-19T12:00:10')"
      ]
     },
     "execution_count": 98,
     "metadata": {},
     "output_type": "execute_result"
    }
   ],
   "source": [
    "d + 10"
   ]
  },
  {
   "cell_type": "code",
   "execution_count": 99,
   "id": "ecba1d35-b66e-4ec8-92c2-31b22a6263f9",
   "metadata": {},
   "outputs": [],
   "source": [
    "oneday = np.timedelta64(1, 'D')"
   ]
  },
  {
   "cell_type": "code",
   "execution_count": 100,
   "id": "f3cba1d4-407b-4671-8a3d-927a9015d7f1",
   "metadata": {},
   "outputs": [
    {
     "data": {
      "text/plain": [
       "numpy.timedelta64(1,'D')"
      ]
     },
     "execution_count": 100,
     "metadata": {},
     "output_type": "execute_result"
    }
   ],
   "source": [
    "oneday"
   ]
  },
  {
   "cell_type": "code",
   "execution_count": 101,
   "id": "5ad51165-3b68-495a-9fac-0195e7b9e738",
   "metadata": {},
   "outputs": [
    {
     "data": {
      "text/plain": [
       "numpy.datetime64('2024-04-20T12:00:00')"
      ]
     },
     "execution_count": 101,
     "metadata": {},
     "output_type": "execute_result"
    }
   ],
   "source": [
    "d + oneday"
   ]
  },
  {
   "cell_type": "code",
   "execution_count": 102,
   "id": "30d8f654-2df9-40ec-925d-4584a00e2ebf",
   "metadata": {},
   "outputs": [],
   "source": [
    "oneminute = np.timedelta64(1, 'm')"
   ]
  },
  {
   "cell_type": "code",
   "execution_count": 103,
   "id": "fc4892f2-7c8b-4d13-b1ab-d549e63f565f",
   "metadata": {},
   "outputs": [
    {
     "data": {
      "text/plain": [
       "numpy.datetime64('2024-04-19T12:01:00')"
      ]
     },
     "execution_count": 103,
     "metadata": {},
     "output_type": "execute_result"
    }
   ],
   "source": [
    "d + oneminute"
   ]
  },
  {
   "cell_type": "code",
   "execution_count": null,
   "id": "61ac39c6-1ba9-4f0e-8cfb-88080e1444fb",
   "metadata": {},
   "outputs": [],
   "source": []
  },
  {
   "cell_type": "code",
   "execution_count": null,
   "id": "da30f6ec-2618-4f0a-8a72-00ea0ea33a83",
   "metadata": {},
   "outputs": [],
   "source": []
  },
  {
   "cell_type": "code",
   "execution_count": null,
   "id": "ebc5cb7f-024f-433f-944e-e4375673485f",
   "metadata": {},
   "outputs": [],
   "source": []
  },
  {
   "cell_type": "code",
   "execution_count": null,
   "id": "79870f99-eb96-4039-8db2-4ff51ce6b483",
   "metadata": {},
   "outputs": [],
   "source": []
  },
  {
   "cell_type": "code",
   "execution_count": null,
   "id": "52f0bc06-1b1c-4ad3-8cfc-e4d7fbbb450a",
   "metadata": {},
   "outputs": [],
   "source": []
  },
  {
   "cell_type": "code",
   "execution_count": null,
   "id": "46e8a118-f13a-441b-a377-6b03bfcd00f9",
   "metadata": {},
   "outputs": [],
   "source": []
  },
  {
   "cell_type": "code",
   "execution_count": null,
   "id": "de946b59-1f40-4235-ab9b-78cbc884b47c",
   "metadata": {},
   "outputs": [],
   "source": []
  },
  {
   "cell_type": "code",
   "execution_count": null,
   "id": "050cdbaf-5072-4f39-aca9-3febca48fe9f",
   "metadata": {},
   "outputs": [],
   "source": []
  },
  {
   "cell_type": "code",
   "execution_count": null,
   "id": "a212d7ad-d69e-401f-9faf-cbbd7d8b6e56",
   "metadata": {},
   "outputs": [],
   "source": []
  },
  {
   "cell_type": "code",
   "execution_count": null,
   "id": "f03d0050-cfed-491a-9497-5a96f82ce5d5",
   "metadata": {},
   "outputs": [],
   "source": []
  },
  {
   "cell_type": "code",
   "execution_count": null,
   "id": "1be3e45e-9c3d-4054-98b7-51a09373bf6e",
   "metadata": {},
   "outputs": [],
   "source": []
  },
  {
   "cell_type": "code",
   "execution_count": null,
   "id": "842aa204-e47e-4148-8784-26b39f291c9e",
   "metadata": {},
   "outputs": [],
   "source": []
  },
  {
   "cell_type": "code",
   "execution_count": null,
   "id": "113fa317-fdc7-43ae-980f-d91c42dadc80",
   "metadata": {},
   "outputs": [],
   "source": []
  },
  {
   "cell_type": "code",
   "execution_count": null,
   "id": "9eb3c970-1364-4203-9707-e6bfe812cfe6",
   "metadata": {},
   "outputs": [],
   "source": []
  },
  {
   "cell_type": "code",
   "execution_count": null,
   "id": "32cb48ce-61de-4822-aa38-3f6ff8d5c444",
   "metadata": {},
   "outputs": [],
   "source": []
  },
  {
   "cell_type": "code",
   "execution_count": null,
   "id": "51f84e22-d124-4a35-98e3-0115fe4e3dcd",
   "metadata": {},
   "outputs": [],
   "source": []
  },
  {
   "cell_type": "code",
   "execution_count": null,
   "id": "73119ad1-875a-4a0a-ae19-5b7cb1862008",
   "metadata": {},
   "outputs": [],
   "source": []
  },
  {
   "cell_type": "code",
   "execution_count": null,
   "id": "387fcadf-c30e-446e-9b6f-c27573920e6d",
   "metadata": {},
   "outputs": [],
   "source": []
  },
  {
   "cell_type": "code",
   "execution_count": null,
   "id": "e32060ca-71cb-4b9c-9c63-afb682401d82",
   "metadata": {},
   "outputs": [],
   "source": []
  },
  {
   "cell_type": "code",
   "execution_count": null,
   "id": "f2b23cc5-e81c-49b7-a226-00b80f7bb4d7",
   "metadata": {},
   "outputs": [],
   "source": []
  },
  {
   "cell_type": "code",
   "execution_count": null,
   "id": "5288a752-965f-4cf1-b383-7a8d24e8425c",
   "metadata": {},
   "outputs": [],
   "source": []
  },
  {
   "cell_type": "code",
   "execution_count": null,
   "id": "ca8c9f27-35ae-433f-9d73-8904d71c9682",
   "metadata": {},
   "outputs": [],
   "source": []
  },
  {
   "cell_type": "code",
   "execution_count": null,
   "id": "d3d08afa-8e9d-46ef-8a75-f63cc91adb9d",
   "metadata": {},
   "outputs": [],
   "source": []
  },
  {
   "cell_type": "code",
   "execution_count": null,
   "id": "4d34d138-22a9-4140-a925-4473ca7c6a2a",
   "metadata": {},
   "outputs": [],
   "source": []
  },
  {
   "cell_type": "code",
   "execution_count": null,
   "id": "c8ef50e9-18b4-45f7-840f-d410a1246374",
   "metadata": {},
   "outputs": [],
   "source": []
  },
  {
   "cell_type": "code",
   "execution_count": null,
   "id": "5b9eb408-1e07-4587-b4c5-3e5c9cda0b75",
   "metadata": {},
   "outputs": [],
   "source": []
  },
  {
   "cell_type": "code",
   "execution_count": null,
   "id": "a1a590bf-517c-42bb-8ca9-5cb7078d6ab3",
   "metadata": {},
   "outputs": [],
   "source": []
  },
  {
   "cell_type": "code",
   "execution_count": null,
   "id": "0e120570-bde8-471d-81c6-ece68b82c751",
   "metadata": {},
   "outputs": [],
   "source": []
  },
  {
   "cell_type": "code",
   "execution_count": null,
   "id": "86c7f3cc-1f5c-470d-95be-e09b8a5c853c",
   "metadata": {},
   "outputs": [],
   "source": []
  },
  {
   "cell_type": "code",
   "execution_count": null,
   "id": "2fa213c3-8868-49ee-8544-591e08f6159d",
   "metadata": {},
   "outputs": [],
   "source": []
  },
  {
   "cell_type": "code",
   "execution_count": null,
   "id": "d04e858b-74cc-449f-ab46-af848239594d",
   "metadata": {},
   "outputs": [],
   "source": []
  },
  {
   "cell_type": "code",
   "execution_count": null,
   "id": "d288637f-99f0-4491-a8cb-94155e0dac35",
   "metadata": {},
   "outputs": [],
   "source": []
  },
  {
   "cell_type": "code",
   "execution_count": null,
   "id": "f233d7b2-3269-4220-bcbc-167c2e04cf56",
   "metadata": {},
   "outputs": [],
   "source": []
  },
  {
   "cell_type": "code",
   "execution_count": null,
   "id": "a10b49c5-b4df-4d7d-be3b-2422b57c0769",
   "metadata": {},
   "outputs": [],
   "source": []
  },
  {
   "cell_type": "code",
   "execution_count": null,
   "id": "34533b19-9255-4f98-be79-7cc83f5ce7d6",
   "metadata": {},
   "outputs": [],
   "source": []
  },
  {
   "cell_type": "code",
   "execution_count": null,
   "id": "d712f251-00ad-4bdb-9c95-cb783af0b91b",
   "metadata": {},
   "outputs": [],
   "source": []
  },
  {
   "cell_type": "code",
   "execution_count": null,
   "id": "4d66ee68-0331-45b8-9a0a-5cd4c9756289",
   "metadata": {},
   "outputs": [],
   "source": []
  },
  {
   "cell_type": "code",
   "execution_count": null,
   "id": "de628c3a-007d-4462-9447-b987ab30552e",
   "metadata": {},
   "outputs": [],
   "source": []
  },
  {
   "cell_type": "code",
   "execution_count": null,
   "id": "8c5bfb4c-cbe9-44e6-a959-453fd806fdb5",
   "metadata": {},
   "outputs": [],
   "source": []
  },
  {
   "cell_type": "code",
   "execution_count": null,
   "id": "998211d8-f2a7-41aa-89b3-8a3daa4f58ea",
   "metadata": {},
   "outputs": [],
   "source": []
  },
  {
   "cell_type": "code",
   "execution_count": null,
   "id": "c07cbf95-8ebc-4e9c-b981-0b664eb7fb8b",
   "metadata": {},
   "outputs": [],
   "source": []
  },
  {
   "cell_type": "code",
   "execution_count": null,
   "id": "58da2a01-b311-4caa-80aa-2f853c76802a",
   "metadata": {},
   "outputs": [],
   "source": []
  },
  {
   "cell_type": "code",
   "execution_count": null,
   "id": "466f4163-de6c-4a07-ac33-3fc33adce5c2",
   "metadata": {},
   "outputs": [],
   "source": []
  },
  {
   "cell_type": "code",
   "execution_count": null,
   "id": "f95fbc09-60d6-40bd-95c0-b0e2775b3b4b",
   "metadata": {},
   "outputs": [],
   "source": []
  },
  {
   "cell_type": "code",
   "execution_count": null,
   "id": "66435d95-9d9e-441a-a161-ed7e9ef2eb43",
   "metadata": {},
   "outputs": [],
   "source": []
  },
  {
   "cell_type": "code",
   "execution_count": null,
   "id": "68a14420-46dc-4ac1-9a6b-1e8b7671f2b7",
   "metadata": {},
   "outputs": [],
   "source": []
  },
  {
   "cell_type": "code",
   "execution_count": null,
   "id": "2a916180-c658-4faa-97fc-5443d3c83803",
   "metadata": {},
   "outputs": [],
   "source": []
  },
  {
   "cell_type": "code",
   "execution_count": null,
   "id": "0b4bc18d-9ff0-4d72-87b3-765020cacb9f",
   "metadata": {},
   "outputs": [],
   "source": []
  },
  {
   "cell_type": "code",
   "execution_count": null,
   "id": "f13bce4a-660d-4c27-8b96-72fd143f0196",
   "metadata": {},
   "outputs": [],
   "source": []
  },
  {
   "cell_type": "code",
   "execution_count": null,
   "id": "5b1a22ab-a1cc-40d4-8863-4da5d81b0bb0",
   "metadata": {},
   "outputs": [],
   "source": []
  },
  {
   "cell_type": "code",
   "execution_count": null,
   "id": "fdb463d2-b1c0-4b5d-8570-379c2a04a40f",
   "metadata": {},
   "outputs": [],
   "source": []
  },
  {
   "cell_type": "code",
   "execution_count": null,
   "id": "16075235-e81e-4463-b63a-a4ced4755abd",
   "metadata": {},
   "outputs": [],
   "source": []
  },
  {
   "cell_type": "code",
   "execution_count": null,
   "id": "aefe5646-ad51-4997-a1b0-89451ebbeb1c",
   "metadata": {},
   "outputs": [],
   "source": []
  },
  {
   "cell_type": "code",
   "execution_count": null,
   "id": "1e239b38-d720-4dfc-b6eb-110c0b1decd5",
   "metadata": {},
   "outputs": [],
   "source": []
  },
  {
   "cell_type": "code",
   "execution_count": null,
   "id": "18d5d0b3-d7a0-4b83-81dc-319f891606bd",
   "metadata": {},
   "outputs": [],
   "source": []
  },
  {
   "cell_type": "code",
   "execution_count": null,
   "id": "83f4601a-4eae-4e06-96d2-64e4805750d9",
   "metadata": {},
   "outputs": [],
   "source": []
  },
  {
   "cell_type": "code",
   "execution_count": null,
   "id": "821cf53c-82d7-491e-b460-c0948899bd37",
   "metadata": {},
   "outputs": [],
   "source": []
  },
  {
   "cell_type": "code",
   "execution_count": null,
   "id": "b9017797-c089-479c-b08f-d2668e8cad46",
   "metadata": {},
   "outputs": [],
   "source": []
  },
  {
   "cell_type": "code",
   "execution_count": null,
   "id": "ee8cd536-8d23-4467-8cd9-69ead88a67de",
   "metadata": {},
   "outputs": [],
   "source": []
  }
 ],
 "metadata": {
  "kernelspec": {
   "display_name": "Python 3 (ipykernel)",
   "language": "python",
   "name": "python3"
  },
  "language_info": {
   "codemirror_mode": {
    "name": "ipython",
    "version": 3
   },
   "file_extension": ".py",
   "mimetype": "text/x-python",
   "name": "python",
   "nbconvert_exporter": "python",
   "pygments_lexer": "ipython3",
   "version": "3.11.7"
  }
 },
 "nbformat": 4,
 "nbformat_minor": 5
}
