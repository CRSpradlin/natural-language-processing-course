{
 "cells": [
  {
   "cell_type": "markdown",
   "id": "d7bbe696-c0e2-4608-a173-ddb8af90598f",
   "metadata": {},
   "source": [
    "this is markdown | SHIFT + ENTER (Execute and Move On) | SHIFT + CTL (Execute and Stay)"
   ]
  },
  {
   "cell_type": "code",
   "execution_count": 1,
   "id": "c5781f21-b6ee-4290-b3b2-3d51e3b8a5e6",
   "metadata": {},
   "outputs": [],
   "source": [
    "#code cell"
   ]
  },
  {
   "cell_type": "code",
   "execution_count": 2,
   "id": "411ba2ba-e7df-4327-8367-93f101d59f4e",
   "metadata": {},
   "outputs": [],
   "source": [
    "import string"
   ]
  },
  {
   "cell_type": "code",
   "execution_count": 3,
   "id": "705f4f07-af6b-4cda-8175-14ce546e92e5",
   "metadata": {},
   "outputs": [],
   "source": [
    "a = 12\n",
    "t = 56"
   ]
  },
  {
   "cell_type": "markdown",
   "id": "4648a48d-d4ba-4de1-a998-125b703132a0",
   "metadata": {},
   "source": [
    "# Python Crash Course"
   ]
  },
  {
   "cell_type": "markdown",
   "id": "1dae65b0-b602-4a00-b3ee-892c74a4c3f2",
   "metadata": {},
   "source": [
    "## Datatypes"
   ]
  },
  {
   "cell_type": "markdown",
   "id": "2edfba8b-9601-4231-bd42-fb7180af148a",
   "metadata": {},
   "source": [
    "### Numbers"
   ]
  },
  {
   "cell_type": "code",
   "execution_count": 4,
   "id": "abf1cda7-fcba-498d-87a0-e4f017211b4d",
   "metadata": {},
   "outputs": [
    {
     "data": {
      "text/plain": [
       "4"
      ]
     },
     "execution_count": 4,
     "metadata": {},
     "output_type": "execute_result"
    }
   ],
   "source": [
    "2 + 2"
   ]
  },
  {
   "cell_type": "code",
   "execution_count": 5,
   "id": "a7e7b455-477f-4d53-813c-c4f72ae2c8af",
   "metadata": {},
   "outputs": [
    {
     "data": {
      "text/plain": [
       "int"
      ]
     },
     "execution_count": 5,
     "metadata": {},
     "output_type": "execute_result"
    }
   ],
   "source": [
    "type(2)"
   ]
  },
  {
   "cell_type": "code",
   "execution_count": 6,
   "id": "80636d9d-06d8-4de2-8283-9f0edb11b29d",
   "metadata": {},
   "outputs": [
    {
     "data": {
      "text/plain": [
       "6"
      ]
     },
     "execution_count": 6,
     "metadata": {},
     "output_type": "execute_result"
    }
   ],
   "source": [
    "2*3"
   ]
  },
  {
   "cell_type": "code",
   "execution_count": 7,
   "id": "76789547-f9ac-4d73-bb4b-06dfad1d73c2",
   "metadata": {},
   "outputs": [
    {
     "data": {
      "text/plain": [
       "7"
      ]
     },
     "execution_count": 7,
     "metadata": {},
     "output_type": "execute_result"
    }
   ],
   "source": [
    "3+4"
   ]
  },
  {
   "cell_type": "code",
   "execution_count": 8,
   "id": "6669c745-b579-4ce2-8aff-eb6adef469e9",
   "metadata": {},
   "outputs": [
    {
     "data": {
      "text/plain": [
       "7"
      ]
     },
     "execution_count": 8,
     "metadata": {},
     "output_type": "execute_result"
    }
   ],
   "source": [
    "abs(2-9)"
   ]
  },
  {
   "cell_type": "code",
   "execution_count": 9,
   "id": "873bc2bc-9605-4394-94f1-1e586dd67ce9",
   "metadata": {},
   "outputs": [
    {
     "data": {
      "text/plain": [
       "2.5"
      ]
     },
     "execution_count": 9,
     "metadata": {},
     "output_type": "execute_result"
    }
   ],
   "source": [
    "5/2"
   ]
  },
  {
   "cell_type": "code",
   "execution_count": 10,
   "id": "eb815c20-8bd6-41bc-a47a-8b6f0e1d9f31",
   "metadata": {},
   "outputs": [
    {
     "data": {
      "text/plain": [
       "2"
      ]
     },
     "execution_count": 10,
     "metadata": {},
     "output_type": "execute_result"
    }
   ],
   "source": [
    "int(5/2)"
   ]
  },
  {
   "cell_type": "code",
   "execution_count": 11,
   "id": "38ebee77-0cda-402f-9c4a-62eb322bb938",
   "metadata": {},
   "outputs": [
    {
     "data": {
      "text/plain": [
       "2"
      ]
     },
     "execution_count": 11,
     "metadata": {},
     "output_type": "execute_result"
    }
   ],
   "source": [
    "5//2"
   ]
  },
  {
   "cell_type": "code",
   "execution_count": 12,
   "id": "548ff7a1-3142-464c-9226-86f7bc027587",
   "metadata": {},
   "outputs": [
    {
     "data": {
      "text/plain": [
       "2"
      ]
     },
     "execution_count": 12,
     "metadata": {},
     "output_type": "execute_result"
    }
   ],
   "source": [
    "20%3"
   ]
  },
  {
   "cell_type": "code",
   "execution_count": 13,
   "id": "e6f82d4c-3b82-4832-8f94-eaa1ceeca427",
   "metadata": {},
   "outputs": [
    {
     "data": {
      "text/plain": [
       "9"
      ]
     },
     "execution_count": 13,
     "metadata": {},
     "output_type": "execute_result"
    }
   ],
   "source": [
    "3**2"
   ]
  },
  {
   "cell_type": "code",
   "execution_count": 14,
   "id": "194bde9e-9556-444d-9e86-fb745477b773",
   "metadata": {},
   "outputs": [
    {
     "data": {
      "text/plain": [
       "float"
      ]
     },
     "execution_count": 14,
     "metadata": {},
     "output_type": "execute_result"
    }
   ],
   "source": [
    "type(1+1.0)"
   ]
  },
  {
   "cell_type": "markdown",
   "id": "84854e1e-6708-4781-a6c7-eda8ebaadcdd",
   "metadata": {},
   "source": [
    "### Variable Assignment"
   ]
  },
  {
   "cell_type": "code",
   "execution_count": 15,
   "id": "1deb77fd-8f6d-4ef9-a02e-fa4efe54737a",
   "metadata": {},
   "outputs": [],
   "source": [
    "var_name = 2"
   ]
  },
  {
   "cell_type": "code",
   "execution_count": 16,
   "id": "7d93d33a-327e-434d-84db-8c3663c2319a",
   "metadata": {},
   "outputs": [],
   "source": [
    "_varname = 5"
   ]
  },
  {
   "cell_type": "code",
   "execution_count": 17,
   "id": "ad0969ae-774c-4f5c-af5b-491a6f61c98b",
   "metadata": {},
   "outputs": [
    {
     "name": "stdout",
     "output_type": "stream",
     "text": [
      "2\n"
     ]
    }
   ],
   "source": [
    "print(var_name)"
   ]
  },
  {
   "cell_type": "code",
   "execution_count": 18,
   "id": "439a5576-03fd-4f07-aed4-986bf040aae8",
   "metadata": {},
   "outputs": [
    {
     "data": {
      "text/plain": [
       "2"
      ]
     },
     "execution_count": 18,
     "metadata": {},
     "output_type": "execute_result"
    }
   ],
   "source": [
    "var_name"
   ]
  },
  {
   "cell_type": "code",
   "execution_count": 19,
   "id": "0bea0f63-c259-4b94-9667-e74622c35dbc",
   "metadata": {},
   "outputs": [
    {
     "data": {
      "text/plain": [
       "int"
      ]
     },
     "execution_count": 19,
     "metadata": {},
     "output_type": "execute_result"
    }
   ],
   "source": [
    "type(var_name)"
   ]
  },
  {
   "cell_type": "code",
   "execution_count": 20,
   "id": "35fafee7-81b0-4086-9b2f-f7672e9a9ce3",
   "metadata": {},
   "outputs": [],
   "source": [
    "float_var = 2.3"
   ]
  },
  {
   "cell_type": "code",
   "execution_count": 21,
   "id": "84ee098c-0ea7-47a0-94ce-0717bb26f27a",
   "metadata": {},
   "outputs": [
    {
     "data": {
      "text/plain": [
       "float"
      ]
     },
     "execution_count": 21,
     "metadata": {},
     "output_type": "execute_result"
    }
   ],
   "source": [
    "type(float_var)"
   ]
  },
  {
   "cell_type": "code",
   "execution_count": 22,
   "id": "cdc415c3-9242-4b54-93c1-920f04fff581",
   "metadata": {},
   "outputs": [],
   "source": [
    "a = 1\n",
    "b = 3.9\n",
    "c = a + b"
   ]
  },
  {
   "cell_type": "code",
   "execution_count": 23,
   "id": "64495e40-c7ad-4de4-91d3-865523e6363f",
   "metadata": {},
   "outputs": [
    {
     "data": {
      "text/plain": [
       "float"
      ]
     },
     "execution_count": 23,
     "metadata": {},
     "output_type": "execute_result"
    }
   ],
   "source": [
    "type(c)"
   ]
  },
  {
   "cell_type": "code",
   "execution_count": 24,
   "id": "fd5dd0aa-8734-4e18-a8f4-82f201173069",
   "metadata": {},
   "outputs": [],
   "source": [
    "float = 2"
   ]
  },
  {
   "cell_type": "code",
   "execution_count": 25,
   "id": "089197c0-208a-4d00-8f45-32fa19f1c41d",
   "metadata": {},
   "outputs": [],
   "source": [
    "# float(a) #throws error"
   ]
  },
  {
   "cell_type": "code",
   "execution_count": 26,
   "id": "3f665595-3540-4c1d-a535-5ce45e7d4975",
   "metadata": {},
   "outputs": [],
   "source": [
    "del float"
   ]
  },
  {
   "cell_type": "code",
   "execution_count": 27,
   "id": "085105c4-516d-46f3-a25e-dfcd07e537a5",
   "metadata": {},
   "outputs": [
    {
     "data": {
      "text/plain": [
       "1.0"
      ]
     },
     "execution_count": 27,
     "metadata": {},
     "output_type": "execute_result"
    }
   ],
   "source": [
    "float(a)"
   ]
  },
  {
   "cell_type": "markdown",
   "id": "fe0d26f8-5e82-4465-afc6-0501d904dbcb",
   "metadata": {},
   "source": [
    "### String"
   ]
  },
  {
   "cell_type": "code",
   "execution_count": 28,
   "id": "89fc9584-9a48-4d27-a76f-1ab87915bde9",
   "metadata": {},
   "outputs": [],
   "source": [
    "# ' ' OR \" \""
   ]
  },
  {
   "cell_type": "code",
   "execution_count": 29,
   "id": "85d35583-830b-48cb-8337-ecc561f46e04",
   "metadata": {},
   "outputs": [
    {
     "data": {
      "text/plain": [
       "'this is a string'"
      ]
     },
     "execution_count": 29,
     "metadata": {},
     "output_type": "execute_result"
    }
   ],
   "source": [
    "'this is a string'"
   ]
  },
  {
   "cell_type": "code",
   "execution_count": 30,
   "id": "979ee9e6-27f5-4814-95a2-5bb3a52a240c",
   "metadata": {},
   "outputs": [
    {
     "data": {
      "text/plain": [
       "str"
      ]
     },
     "execution_count": 30,
     "metadata": {},
     "output_type": "execute_result"
    }
   ],
   "source": [
    "type('this is another string')"
   ]
  },
  {
   "cell_type": "code",
   "execution_count": 31,
   "id": "30c635eb-6455-416d-917c-1cd5fb2167a9",
   "metadata": {},
   "outputs": [
    {
     "data": {
      "text/plain": [
       "str"
      ]
     },
     "execution_count": 31,
     "metadata": {},
     "output_type": "execute_result"
    }
   ],
   "source": [
    "type(\"this is yet another string\")"
   ]
  },
  {
   "cell_type": "code",
   "execution_count": 32,
   "id": "2aa52221-31d7-4a32-b17e-86616ab61c55",
   "metadata": {},
   "outputs": [],
   "source": [
    "string  = \"this is the last string\""
   ]
  },
  {
   "cell_type": "code",
   "execution_count": 33,
   "id": "52eca5df-69c8-4b0a-837a-51312ca7f88b",
   "metadata": {},
   "outputs": [
    {
     "data": {
      "text/plain": [
       "'this is the last string'"
      ]
     },
     "execution_count": 33,
     "metadata": {},
     "output_type": "execute_result"
    }
   ],
   "source": [
    "string"
   ]
  },
  {
   "cell_type": "code",
   "execution_count": 34,
   "id": "1cfa8840-8f0f-4ecb-ac0f-342931c928b2",
   "metadata": {},
   "outputs": [
    {
     "name": "stdout",
     "output_type": "stream",
     "text": [
      "this is the last string\n"
     ]
    }
   ],
   "source": [
    "print(string)"
   ]
  },
  {
   "cell_type": "code",
   "execution_count": 35,
   "id": "ffd5249e-4ec6-4190-a636-6eb5ee2db5ce",
   "metadata": {},
   "outputs": [],
   "source": [
    "string = 'this is Chris\"s quote'"
   ]
  },
  {
   "cell_type": "code",
   "execution_count": 36,
   "id": "2bb570d3-2286-4002-a174-6b3c9a556f26",
   "metadata": {},
   "outputs": [
    {
     "data": {
      "text/plain": [
       "'this is Chris\"s quote'"
      ]
     },
     "execution_count": 36,
     "metadata": {},
     "output_type": "execute_result"
    }
   ],
   "source": [
    "string"
   ]
  },
  {
   "cell_type": "code",
   "execution_count": 37,
   "id": "8154bf83-6dc0-4281-81e9-1a003e9def1e",
   "metadata": {},
   "outputs": [
    {
     "name": "stdout",
     "output_type": "stream",
     "text": [
      "this is Chris\"s quote\n"
     ]
    }
   ],
   "source": [
    "print(string)"
   ]
  },
  {
   "cell_type": "code",
   "execution_count": 38,
   "id": "b56f9232-0bf4-4538-be82-77ca53feb2e3",
   "metadata": {},
   "outputs": [
    {
     "name": "stdout",
     "output_type": "stream",
     "text": [
      "this is Chris's quote\n"
     ]
    }
   ],
   "source": [
    "string = \"this is Chris's quote\"\n",
    "print(string)"
   ]
  },
  {
   "cell_type": "code",
   "execution_count": 39,
   "id": "9eadaa74-3256-4807-9c45-b46e71d026fd",
   "metadata": {},
   "outputs": [
    {
     "name": "stdout",
     "output_type": "stream",
     "text": [
      "this is Chris\\'s quote\n"
     ]
    }
   ],
   "source": [
    "string = r'this is Chris\\'s quote'\n",
    "print(string)"
   ]
  },
  {
   "cell_type": "code",
   "execution_count": 40,
   "id": "dda89567-0ac2-4980-a861-ae32fc09749e",
   "metadata": {},
   "outputs": [
    {
     "name": "stdout",
     "output_type": "stream",
     "text": [
      "this is Chris's crazy quote\n"
     ]
    }
   ],
   "source": [
    "string = \"this is Chris's {} quote\".format(\"crazy\")\n",
    "print(string)"
   ]
  },
  {
   "cell_type": "markdown",
   "id": "401466a6-9c87-4a6e-b12f-1435bc5707cb",
   "metadata": {},
   "source": [
    "### List"
   ]
  },
  {
   "cell_type": "code",
   "execution_count": 41,
   "id": "a76860e4-5be6-469a-b8bb-9390f5e74be7",
   "metadata": {},
   "outputs": [],
   "source": [
    "# [], (), {}"
   ]
  },
  {
   "cell_type": "code",
   "execution_count": 42,
   "id": "1512681d-b4d0-493f-9eb3-ab7ab8caeef5",
   "metadata": {},
   "outputs": [
    {
     "data": {
      "text/plain": [
       "[1, 2, 3, 4, 5]"
      ]
     },
     "execution_count": 42,
     "metadata": {},
     "output_type": "execute_result"
    }
   ],
   "source": [
    "x = [1, 2, 3, 4, 5]\n",
    "x"
   ]
  },
  {
   "cell_type": "code",
   "execution_count": 43,
   "id": "bf692803-0d38-449d-98a3-cbb9c7198e01",
   "metadata": {},
   "outputs": [
    {
     "data": {
      "text/plain": [
       "[1, 2, 'three', 4.0]"
      ]
     },
     "execution_count": 43,
     "metadata": {},
     "output_type": "execute_result"
    }
   ],
   "source": [
    "x = [1, 2, \"three\", 4.0]\n",
    "x"
   ]
  },
  {
   "cell_type": "code",
   "execution_count": 44,
   "id": "61719396-3ba1-460f-a839-6f4e797703e1",
   "metadata": {},
   "outputs": [
    {
     "data": {
      "text/plain": [
       "[1, 2, 'three', 4.0, 5]"
      ]
     },
     "execution_count": 44,
     "metadata": {},
     "output_type": "execute_result"
    }
   ],
   "source": [
    "x.append(5)\n",
    "x"
   ]
  },
  {
   "cell_type": "code",
   "execution_count": 45,
   "id": "1baa0fa0-0a23-401e-bb2a-52e0b63db64e",
   "metadata": {},
   "outputs": [
    {
     "data": {
      "text/plain": [
       "5"
      ]
     },
     "execution_count": 45,
     "metadata": {},
     "output_type": "execute_result"
    }
   ],
   "source": [
    "x.pop()"
   ]
  },
  {
   "cell_type": "code",
   "execution_count": 46,
   "id": "757f814d-cb36-46ca-a63d-3f4947bc1284",
   "metadata": {},
   "outputs": [
    {
     "data": {
      "text/plain": [
       "[1, 2, 'three', 4.0]"
      ]
     },
     "execution_count": 46,
     "metadata": {},
     "output_type": "execute_result"
    }
   ],
   "source": [
    "x"
   ]
  },
  {
   "cell_type": "code",
   "execution_count": 47,
   "id": "5e6b2ebd-390a-45c8-af03-e47e39e52e3c",
   "metadata": {},
   "outputs": [
    {
     "data": {
      "text/plain": [
       "[1, '1.5', 2, 'three', 4.0]"
      ]
     },
     "execution_count": 47,
     "metadata": {},
     "output_type": "execute_result"
    }
   ],
   "source": [
    "x.insert(1, \"1.5\")\n",
    "x"
   ]
  },
  {
   "cell_type": "code",
   "execution_count": 48,
   "id": "7fe33c82-ac8c-4007-b09d-43be0ec479df",
   "metadata": {},
   "outputs": [
    {
     "data": {
      "text/plain": [
       "'1.5'"
      ]
     },
     "execution_count": 48,
     "metadata": {},
     "output_type": "execute_result"
    }
   ],
   "source": [
    "x[1]"
   ]
  },
  {
   "cell_type": "code",
   "execution_count": 49,
   "id": "ffa4a2f3-f1d5-4419-bd08-258e68c38382",
   "metadata": {},
   "outputs": [
    {
     "data": {
      "text/plain": [
       "[1, '1.5']"
      ]
     },
     "execution_count": 49,
     "metadata": {},
     "output_type": "execute_result"
    }
   ],
   "source": [
    "x[:2] #Up to second index, second index is not included"
   ]
  },
  {
   "cell_type": "markdown",
   "id": "b08c1729-353f-4a71-a5f9-d41575946e08",
   "metadata": {},
   "source": [
    "### Sets"
   ]
  },
  {
   "cell_type": "code",
   "execution_count": 50,
   "id": "af5b39db-73bb-4243-b9b7-845216774809",
   "metadata": {},
   "outputs": [
    {
     "data": {
      "text/plain": [
       "[1, 2, 2]"
      ]
     },
     "execution_count": 50,
     "metadata": {},
     "output_type": "execute_result"
    }
   ],
   "source": [
    "l = [1, 2, 2]\n",
    "l"
   ]
  },
  {
   "cell_type": "code",
   "execution_count": 51,
   "id": "35bfa943-8f3b-4b29-b2f2-1500f7be76da",
   "metadata": {},
   "outputs": [
    {
     "data": {
      "text/plain": [
       "list"
      ]
     },
     "execution_count": 51,
     "metadata": {},
     "output_type": "execute_result"
    }
   ],
   "source": [
    "type(l)"
   ]
  },
  {
   "cell_type": "code",
   "execution_count": 52,
   "id": "424eed93-cf48-4e7b-871f-e05f2f2a1f80",
   "metadata": {},
   "outputs": [
    {
     "data": {
      "text/plain": [
       "{1, 2}"
      ]
     },
     "execution_count": 52,
     "metadata": {},
     "output_type": "execute_result"
    }
   ],
   "source": [
    "s = {1, 2, 2}\n",
    "s"
   ]
  },
  {
   "cell_type": "code",
   "execution_count": 53,
   "id": "5bd4cdba-304f-4fa8-a9cb-5e137cdb126a",
   "metadata": {},
   "outputs": [
    {
     "data": {
      "text/plain": [
       "set"
      ]
     },
     "execution_count": 53,
     "metadata": {},
     "output_type": "execute_result"
    }
   ],
   "source": [
    "type(s)"
   ]
  },
  {
   "cell_type": "code",
   "execution_count": 54,
   "id": "3e28fe22-6315-4dc2-b9d8-f6db661038fa",
   "metadata": {},
   "outputs": [
    {
     "data": {
      "text/plain": [
       "{1, 2}"
      ]
     },
     "execution_count": 54,
     "metadata": {},
     "output_type": "execute_result"
    }
   ],
   "source": [
    "set(l)"
   ]
  },
  {
   "cell_type": "code",
   "execution_count": 55,
   "id": "e0f7dec7-0fe9-48cb-9384-36f6997bcc43",
   "metadata": {},
   "outputs": [
    {
     "data": {
      "text/plain": [
       "{1, 2.0, 'one', 'three'}"
      ]
     },
     "execution_count": 55,
     "metadata": {},
     "output_type": "execute_result"
    }
   ],
   "source": [
    "s = {1, 'one', 2.0, 'three'}\n",
    "s"
   ]
  },
  {
   "cell_type": "code",
   "execution_count": 56,
   "id": "e9a82e28-93fe-4b15-b9dd-b5d6bee0b992",
   "metadata": {},
   "outputs": [
    {
     "data": {
      "text/plain": [
       "[1, 'one', 2.0, 'three']"
      ]
     },
     "execution_count": 56,
     "metadata": {},
     "output_type": "execute_result"
    }
   ],
   "source": [
    "l = [1, 'one', 2.0, 'three']\n",
    "l"
   ]
  },
  {
   "cell_type": "code",
   "execution_count": 57,
   "id": "bc16342c-f9c9-4f4a-a7d3-baed072dce2e",
   "metadata": {},
   "outputs": [
    {
     "data": {
      "text/plain": [
       "1"
      ]
     },
     "execution_count": 57,
     "metadata": {},
     "output_type": "execute_result"
    }
   ],
   "source": [
    "l[0]"
   ]
  },
  {
   "cell_type": "code",
   "execution_count": 58,
   "id": "b0bd5e0a-5ded-42fb-b374-a0b340e0993b",
   "metadata": {},
   "outputs": [
    {
     "data": {
      "text/plain": [
       "'one'"
      ]
     },
     "execution_count": 58,
     "metadata": {},
     "output_type": "execute_result"
    }
   ],
   "source": [
    "l[1]"
   ]
  },
  {
   "cell_type": "markdown",
   "id": "3157a0df-fa5b-42dc-ba3f-cd7fc22a462d",
   "metadata": {},
   "source": [
    "## Tuple"
   ]
  },
  {
   "cell_type": "code",
   "execution_count": 59,
   "id": "aee6787f-f761-4c55-8694-c0f301f59196",
   "metadata": {},
   "outputs": [],
   "source": [
    "# ()"
   ]
  },
  {
   "cell_type": "code",
   "execution_count": 60,
   "id": "e6af6ca2-9246-47e6-97a4-4de0e63d7b36",
   "metadata": {},
   "outputs": [],
   "source": [
    "t = (1, 'two', 'three') "
   ]
  },
  {
   "cell_type": "code",
   "execution_count": 61,
   "id": "d11c69c5-2f19-4b6c-9479-193a90db6d23",
   "metadata": {},
   "outputs": [
    {
     "name": "stdout",
     "output_type": "stream",
     "text": [
      "(1, 'two', 'three')\n"
     ]
    }
   ],
   "source": [
    "print(t)"
   ]
  },
  {
   "cell_type": "code",
   "execution_count": 62,
   "id": "a6507e64-18e1-43c1-b894-eedf6b563a99",
   "metadata": {},
   "outputs": [
    {
     "data": {
      "text/plain": [
       "1"
      ]
     },
     "execution_count": 62,
     "metadata": {},
     "output_type": "execute_result"
    }
   ],
   "source": [
    "t[0]"
   ]
  },
  {
   "cell_type": "code",
   "execution_count": 63,
   "id": "1c5e625e-ce03-4117-bce3-6e0d1678775b",
   "metadata": {},
   "outputs": [
    {
     "data": {
      "text/plain": [
       "'three'"
      ]
     },
     "execution_count": 63,
     "metadata": {},
     "output_type": "execute_result"
    }
   ],
   "source": [
    "t[2]"
   ]
  },
  {
   "cell_type": "markdown",
   "id": "2036e7c0-d221-4fbb-9870-108d9dd24752",
   "metadata": {},
   "source": [
    "You cannot update tuples"
   ]
  },
  {
   "cell_type": "code",
   "execution_count": 64,
   "id": "d8aedd74-3b4b-40df-b9bd-e7f9324ee5c2",
   "metadata": {},
   "outputs": [
    {
     "data": {
      "text/plain": [
       "(1,)"
      ]
     },
     "execution_count": 64,
     "metadata": {},
     "output_type": "execute_result"
    }
   ],
   "source": [
    "t[:1]"
   ]
  },
  {
   "cell_type": "code",
   "execution_count": 65,
   "id": "dd122eba-f379-49dd-bbf1-c012b33e6a99",
   "metadata": {},
   "outputs": [
    {
     "data": {
      "text/plain": [
       "('two', 'three')"
      ]
     },
     "execution_count": 65,
     "metadata": {},
     "output_type": "execute_result"
    }
   ],
   "source": [
    "t[-2:]"
   ]
  },
  {
   "cell_type": "markdown",
   "id": "eb55a236-aaf9-4d4c-bf3d-b6f30e17d0f3",
   "metadata": {},
   "source": [
    "## Dictionary"
   ]
  },
  {
   "cell_type": "code",
   "execution_count": 66,
   "id": "162c6b0b-1df4-47c2-b2e7-ec5d13719388",
   "metadata": {},
   "outputs": [],
   "source": [
    "# {}"
   ]
  },
  {
   "cell_type": "code",
   "execution_count": 67,
   "id": "645e1151-4b2f-4faf-98fb-bb1a3ff697dc",
   "metadata": {},
   "outputs": [],
   "source": [
    "# key:value"
   ]
  },
  {
   "cell_type": "code",
   "execution_count": 68,
   "id": "d3108b1f-71d6-451c-8a0c-11b82f4a05c5",
   "metadata": {},
   "outputs": [
    {
     "data": {
      "text/plain": [
       "dict"
      ]
     },
     "execution_count": 68,
     "metadata": {},
     "output_type": "execute_result"
    }
   ],
   "source": [
    "d = {'key1': 'value1', 'key2':'value2'}\n",
    "type(d)"
   ]
  },
  {
   "cell_type": "code",
   "execution_count": 69,
   "id": "acc2b934-bbc9-4aa6-9fdb-30f5e0ec678f",
   "metadata": {},
   "outputs": [
    {
     "data": {
      "text/plain": [
       "{'key1': 'value1', 'key2': 'value2'}"
      ]
     },
     "execution_count": 69,
     "metadata": {},
     "output_type": "execute_result"
    }
   ],
   "source": [
    "d"
   ]
  },
  {
   "cell_type": "code",
   "execution_count": 70,
   "id": "81b1e2d7-8f8f-4459-b567-27a09a45eb33",
   "metadata": {},
   "outputs": [],
   "source": [
    "d = {1:'One', 'Two': 2}"
   ]
  },
  {
   "cell_type": "code",
   "execution_count": 71,
   "id": "ba23ad84-8ec8-4d09-8a06-3a31f330a2b6",
   "metadata": {},
   "outputs": [
    {
     "data": {
      "text/plain": [
       "dict_keys([1, 'Two'])"
      ]
     },
     "execution_count": 71,
     "metadata": {},
     "output_type": "execute_result"
    }
   ],
   "source": [
    "d.keys()"
   ]
  },
  {
   "cell_type": "code",
   "execution_count": 72,
   "id": "cf198748-08c2-4d0c-8974-42ca00f923f5",
   "metadata": {},
   "outputs": [
    {
     "data": {
      "text/plain": [
       "dict_values(['One', 2])"
      ]
     },
     "execution_count": 72,
     "metadata": {},
     "output_type": "execute_result"
    }
   ],
   "source": [
    "d.values()"
   ]
  },
  {
   "cell_type": "code",
   "execution_count": 73,
   "id": "41cbc1e3-d4ec-48a3-81db-83580016522d",
   "metadata": {},
   "outputs": [
    {
     "data": {
      "text/plain": [
       "dict_items([(1, 'One'), ('Two', 2)])"
      ]
     },
     "execution_count": 73,
     "metadata": {},
     "output_type": "execute_result"
    }
   ],
   "source": [
    "d.items()"
   ]
  },
  {
   "cell_type": "code",
   "execution_count": 74,
   "id": "02e9a3dc-da2a-470c-85dc-56367b398153",
   "metadata": {},
   "outputs": [
    {
     "data": {
      "text/plain": [
       "{1: 'One', 'Two': 2, 'three': 3.0}"
      ]
     },
     "execution_count": 74,
     "metadata": {},
     "output_type": "execute_result"
    }
   ],
   "source": [
    "d['three'] = 3.0\n",
    "d"
   ]
  },
  {
   "cell_type": "code",
   "execution_count": 75,
   "id": "96c30745-ba12-421d-ad94-4e563849fdb2",
   "metadata": {},
   "outputs": [
    {
     "data": {
      "text/plain": [
       "{1: 'One', 'Two': 2, 'three': 3}"
      ]
     },
     "execution_count": 75,
     "metadata": {},
     "output_type": "execute_result"
    }
   ],
   "source": [
    "d['three'] = 3\n",
    "d"
   ]
  },
  {
   "cell_type": "markdown",
   "id": "535061d7-66a0-41e0-b262-159d6860e2e8",
   "metadata": {},
   "source": [
    "## Boolean and Comparison Operator"
   ]
  },
  {
   "cell_type": "code",
   "execution_count": 76,
   "id": "2a5b3bbb-db15-4002-9369-f8bb51b7ada6",
   "metadata": {},
   "outputs": [
    {
     "data": {
      "text/plain": [
       "True"
      ]
     },
     "execution_count": 76,
     "metadata": {},
     "output_type": "execute_result"
    }
   ],
   "source": [
    "True"
   ]
  },
  {
   "cell_type": "code",
   "execution_count": 77,
   "id": "744e1b78-dec6-43ac-bcaf-c08d25a8cffa",
   "metadata": {},
   "outputs": [
    {
     "data": {
      "text/plain": [
       "False"
      ]
     },
     "execution_count": 77,
     "metadata": {},
     "output_type": "execute_result"
    }
   ],
   "source": [
    "False"
   ]
  },
  {
   "cell_type": "code",
   "execution_count": 78,
   "id": "defdea13-5a72-4c14-a342-bd5395761780",
   "metadata": {},
   "outputs": [
    {
     "data": {
      "text/plain": [
       "False"
      ]
     },
     "execution_count": 78,
     "metadata": {},
     "output_type": "execute_result"
    }
   ],
   "source": [
    "1>2"
   ]
  },
  {
   "cell_type": "code",
   "execution_count": 79,
   "id": "017fcdc7-6778-46ec-a409-3d10032debb7",
   "metadata": {},
   "outputs": [
    {
     "data": {
      "text/plain": [
       "False"
      ]
     },
     "execution_count": 79,
     "metadata": {},
     "output_type": "execute_result"
    }
   ],
   "source": [
    "10 == 20"
   ]
  },
  {
   "cell_type": "code",
   "execution_count": 80,
   "id": "349f2247-77b2-4f06-90e5-12ec9feb3345",
   "metadata": {},
   "outputs": [
    {
     "data": {
      "text/plain": [
       "True"
      ]
     },
     "execution_count": 80,
     "metadata": {},
     "output_type": "execute_result"
    }
   ],
   "source": [
    "10 == 10"
   ]
  },
  {
   "cell_type": "code",
   "execution_count": 81,
   "id": "9cd8eb27-25f4-4fd6-83b6-09717a0a2a4c",
   "metadata": {},
   "outputs": [
    {
     "data": {
      "text/plain": [
       "True"
      ]
     },
     "execution_count": 81,
     "metadata": {},
     "output_type": "execute_result"
    }
   ],
   "source": [
    "10 != 11"
   ]
  },
  {
   "cell_type": "code",
   "execution_count": 82,
   "id": "15af0a69-1ef7-4b0f-ba0d-e8415756a94e",
   "metadata": {},
   "outputs": [
    {
     "data": {
      "text/plain": [
       "True"
      ]
     },
     "execution_count": 82,
     "metadata": {},
     "output_type": "execute_result"
    }
   ],
   "source": [
    "None == None"
   ]
  },
  {
   "cell_type": "code",
   "execution_count": 83,
   "id": "9d1fb9f7-7e12-4e73-8a4b-45af2b22ee34",
   "metadata": {},
   "outputs": [
    {
     "data": {
      "text/plain": [
       "False"
      ]
     },
     "execution_count": 83,
     "metadata": {},
     "output_type": "execute_result"
    }
   ],
   "source": [
    "None != None"
   ]
  },
  {
   "cell_type": "code",
   "execution_count": 84,
   "id": "34254323-b9c8-4ee8-97f8-dd39338dea62",
   "metadata": {},
   "outputs": [
    {
     "data": {
      "text/plain": [
       "True"
      ]
     },
     "execution_count": 84,
     "metadata": {},
     "output_type": "execute_result"
    }
   ],
   "source": [
    "'string' == 'string'"
   ]
  },
  {
   "cell_type": "markdown",
   "id": "f1845e82-51d5-446b-ad8a-2699bacea20e",
   "metadata": {},
   "source": [
    "## Logical Operator"
   ]
  },
  {
   "cell_type": "code",
   "execution_count": 85,
   "id": "a82c0b6a-b043-4d3f-a41a-139d18eccd46",
   "metadata": {},
   "outputs": [],
   "source": [
    "# and, or"
   ]
  },
  {
   "cell_type": "code",
   "execution_count": 86,
   "id": "fae61b62-1e54-4999-ba91-8983a82dcfc4",
   "metadata": {},
   "outputs": [
    {
     "data": {
      "text/plain": [
       "10"
      ]
     },
     "execution_count": 86,
     "metadata": {},
     "output_type": "execute_result"
    }
   ],
   "source": [
    "10 or 8"
   ]
  },
  {
   "cell_type": "code",
   "execution_count": 87,
   "id": "a0029045-6a6c-4b40-876e-5e1bcd4f1987",
   "metadata": {},
   "outputs": [
    {
     "data": {
      "text/plain": [
       "1"
      ]
     },
     "execution_count": 87,
     "metadata": {},
     "output_type": "execute_result"
    }
   ],
   "source": [
    "0 or 1"
   ]
  },
  {
   "cell_type": "code",
   "execution_count": 88,
   "id": "00a4d39f-e2ab-42be-b603-2c210f3d69be",
   "metadata": {},
   "outputs": [
    {
     "data": {
      "text/plain": [
       "5"
      ]
     },
     "execution_count": 88,
     "metadata": {},
     "output_type": "execute_result"
    }
   ],
   "source": [
    "5 or 2"
   ]
  },
  {
   "cell_type": "code",
   "execution_count": 89,
   "id": "7d530468-2818-4113-ad5a-44447122444a",
   "metadata": {},
   "outputs": [
    {
     "data": {
      "text/plain": [
       "True"
      ]
     },
     "execution_count": 89,
     "metadata": {},
     "output_type": "execute_result"
    }
   ],
   "source": [
    "(1 == 2) or (1 == 1)"
   ]
  },
  {
   "cell_type": "code",
   "execution_count": 90,
   "id": "1ffcd59a-597c-4e14-bff5-1ad97b163e0b",
   "metadata": {},
   "outputs": [
    {
     "data": {
      "text/plain": [
       "False"
      ]
     },
     "execution_count": 90,
     "metadata": {},
     "output_type": "execute_result"
    }
   ],
   "source": [
    "(1 == 2) and (1 == 1)"
   ]
  },
  {
   "cell_type": "code",
   "execution_count": 91,
   "id": "323ae49d-635e-4497-a12a-ecc46b444113",
   "metadata": {},
   "outputs": [
    {
     "data": {
      "text/plain": [
       "False"
      ]
     },
     "execution_count": 91,
     "metadata": {},
     "output_type": "execute_result"
    }
   ],
   "source": [
    "False and True"
   ]
  },
  {
   "cell_type": "code",
   "execution_count": 92,
   "id": "05e51844-0c3f-4bf8-9050-767be1f3d545",
   "metadata": {},
   "outputs": [
    {
     "data": {
      "text/plain": [
       "True"
      ]
     },
     "execution_count": 92,
     "metadata": {},
     "output_type": "execute_result"
    }
   ],
   "source": [
    "True and True"
   ]
  },
  {
   "cell_type": "code",
   "execution_count": 93,
   "id": "92da3a30-15fe-4467-975f-a8ec44aa28a0",
   "metadata": {},
   "outputs": [
    {
     "data": {
      "text/plain": [
       "False"
      ]
     },
     "execution_count": 93,
     "metadata": {},
     "output_type": "execute_result"
    }
   ],
   "source": [
    "False and False"
   ]
  },
  {
   "cell_type": "code",
   "execution_count": 94,
   "id": "5f8ed1ed-315e-495f-bd4a-6b06e222c8b0",
   "metadata": {},
   "outputs": [
    {
     "data": {
      "text/plain": [
       "True"
      ]
     },
     "execution_count": 94,
     "metadata": {},
     "output_type": "execute_result"
    }
   ],
   "source": [
    "(1 > 2) and (3 > 2) or (7 > 5)"
   ]
  },
  {
   "cell_type": "code",
   "execution_count": 95,
   "id": "2ae96d64-c792-48ac-9942-4be9d6fbf626",
   "metadata": {},
   "outputs": [
    {
     "data": {
      "text/plain": [
       "False"
      ]
     },
     "execution_count": 95,
     "metadata": {},
     "output_type": "execute_result"
    }
   ],
   "source": [
    "(1 > 2) and ((3 > 2) or (7 > 5))"
   ]
  },
  {
   "cell_type": "markdown",
   "id": "0e7676ba-333a-4862-8075-ed14bed15e67",
   "metadata": {},
   "source": [
    "## If, Else and Elif"
   ]
  },
  {
   "cell_type": "code",
   "execution_count": 96,
   "id": "688deb5c-d4c0-4e70-a98c-d486cb134076",
   "metadata": {},
   "outputs": [],
   "source": [
    "if (1 > 2):\n",
    "    print('True')"
   ]
  },
  {
   "cell_type": "code",
   "execution_count": 97,
   "id": "21c28e41-1110-4d1b-acdf-96b740c69ce1",
   "metadata": {},
   "outputs": [],
   "source": [
    "if False:\n",
    "    print('True')"
   ]
  },
  {
   "cell_type": "code",
   "execution_count": 98,
   "id": "31e475ad-6e00-492e-90b8-a51a80e7d62a",
   "metadata": {},
   "outputs": [
    {
     "name": "stdout",
     "output_type": "stream",
     "text": [
      "True\n"
     ]
    }
   ],
   "source": [
    "if (1 < 2):\n",
    "    print('True')"
   ]
  },
  {
   "cell_type": "code",
   "execution_count": 99,
   "id": "64f48a50-a6a1-4df9-9642-73fc233d8da1",
   "metadata": {},
   "outputs": [
    {
     "name": "stdout",
     "output_type": "stream",
     "text": [
      "This will always print\n"
     ]
    }
   ],
   "source": [
    "if (False):\n",
    "    print('This will never print')\n",
    "else:\n",
    "    print('This will always print')"
   ]
  },
  {
   "cell_type": "code",
   "execution_count": 100,
   "id": "921a53c7-423b-4de3-8b03-bbc45494aed9",
   "metadata": {},
   "outputs": [
    {
     "name": "stdout",
     "output_type": "stream",
     "text": [
      "You are old\n"
     ]
    }
   ],
   "source": [
    "age = 50\n",
    "\n",
    "if (age < 18):\n",
    "    print('You are a kid')\n",
    "elif (age >= 18 and age < 50):\n",
    "    print('You are an adult')\n",
    "else:\n",
    "    print('You are old')"
   ]
  },
  {
   "cell_type": "markdown",
   "id": "e486278d-7ee5-43a3-b8bc-ded6432b93bb",
   "metadata": {},
   "source": [
    "## For and While Loop"
   ]
  },
  {
   "cell_type": "code",
   "execution_count": 101,
   "id": "63f72b7b-09f2-456b-8d1f-249aace3c67e",
   "metadata": {},
   "outputs": [
    {
     "data": {
      "text/plain": [
       "[1, 'one', 2.0, 'three']"
      ]
     },
     "execution_count": 101,
     "metadata": {},
     "output_type": "execute_result"
    }
   ],
   "source": [
    "l"
   ]
  },
  {
   "cell_type": "code",
   "execution_count": 102,
   "id": "c7ad82b1-b055-4be6-afd2-8958be52a9e9",
   "metadata": {},
   "outputs": [
    {
     "data": {
      "text/plain": [
       "'one'"
      ]
     },
     "execution_count": 102,
     "metadata": {},
     "output_type": "execute_result"
    }
   ],
   "source": [
    "l[1]"
   ]
  },
  {
   "cell_type": "code",
   "execution_count": 106,
   "id": "3395e3fa-f081-4056-a764-26c3cb9402d5",
   "metadata": {},
   "outputs": [
    {
     "name": "stdout",
     "output_type": "stream",
     "text": [
      "1\n",
      "one\n",
      "2.0\n",
      "three\n"
     ]
    }
   ],
   "source": [
    "for item in l:\n",
    "    print(item)"
   ]
  },
  {
   "cell_type": "code",
   "execution_count": 108,
   "id": "c1cd5d7a-e94b-40a4-bf93-5c5eb4b87b8b",
   "metadata": {},
   "outputs": [
    {
     "name": "stdout",
     "output_type": "stream",
     "text": [
      "1\n",
      "two\n",
      "three\n"
     ]
    }
   ],
   "source": [
    "for item in t:\n",
    "    print(item)"
   ]
  },
  {
   "cell_type": "code",
   "execution_count": 109,
   "id": "8b743e57-8222-4358-92f2-009f31a33a94",
   "metadata": {},
   "outputs": [
    {
     "name": "stdout",
     "output_type": "stream",
     "text": [
      "0\n",
      "1\n"
     ]
    }
   ],
   "source": [
    "for i in range(2):\n",
    "    print(i)"
   ]
  },
  {
   "cell_type": "code",
   "execution_count": 112,
   "id": "4b2bc327-09ee-4404-9ff3-e74b86ec3cc0",
   "metadata": {},
   "outputs": [
    {
     "name": "stdout",
     "output_type": "stream",
     "text": [
      "10\n",
      "9\n",
      "8\n",
      "7\n",
      "6\n",
      "5\n",
      "4\n",
      "3\n",
      "2\n",
      "1\n"
     ]
    }
   ],
   "source": [
    "i = 10\n",
    "\n",
    "while i > 0:\n",
    "    print(i)\n",
    "    i = i-1"
   ]
  },
  {
   "cell_type": "code",
   "execution_count": 114,
   "id": "85b6b2b8-caff-4cbf-8686-ed7fc38187d8",
   "metadata": {},
   "outputs": [
    {
     "name": "stdout",
     "output_type": "stream",
     "text": [
      "1\n",
      "one\n",
      "2.0\n",
      "three\n"
     ]
    }
   ],
   "source": [
    "i = 0\n",
    "\n",
    "while i < len(l):\n",
    "    print(l[i])\n",
    "    i = i+1"
   ]
  },
  {
   "cell_type": "markdown",
   "id": "2702f593-a678-4ccc-aa01-7679bd0b2c96",
   "metadata": {},
   "source": [
    "## Lambda Method"
   ]
  },
  {
   "cell_type": "code",
   "execution_count": 117,
   "id": "d0ff4fe0-cf84-42f8-a5a6-d125428617ba",
   "metadata": {},
   "outputs": [
    {
     "data": {
      "text/plain": [
       "3"
      ]
     },
     "execution_count": 117,
     "metadata": {},
     "output_type": "execute_result"
    }
   ],
   "source": [
    "def method1(param1, param2):\n",
    "    return param1 + param2\n",
    "\n",
    "method1(1, 2)"
   ]
  },
  {
   "cell_type": "code",
   "execution_count": 118,
   "id": "fb51d8a4-b6b5-46c9-81b8-419ef5c18eb5",
   "metadata": {},
   "outputs": [
    {
     "data": {
      "text/plain": [
       "6"
      ]
     },
     "execution_count": 118,
     "metadata": {},
     "output_type": "execute_result"
    }
   ],
   "source": [
    "resp = method1(1, 5)\n",
    "resp"
   ]
  },
  {
   "cell_type": "code",
   "execution_count": 119,
   "id": "876e556c-1c9f-49d7-a2e4-0ea24fd43bf5",
   "metadata": {},
   "outputs": [],
   "source": [
    "x = lambda y: y ** 2"
   ]
  },
  {
   "cell_type": "code",
   "execution_count": 120,
   "id": "5d89a5f2-0f60-452f-8873-1024398d90f5",
   "metadata": {},
   "outputs": [
    {
     "data": {
      "text/plain": [
       "9"
      ]
     },
     "execution_count": 120,
     "metadata": {},
     "output_type": "execute_result"
    }
   ],
   "source": [
    "x(3)"
   ]
  },
  {
   "cell_type": "code",
   "execution_count": 121,
   "id": "c203f7ec-878a-4a1b-afa8-8c5316b15657",
   "metadata": {},
   "outputs": [],
   "source": [
    "x = lambda a,b: a * b"
   ]
  },
  {
   "cell_type": "code",
   "execution_count": 122,
   "id": "ea349c2a-089c-4b7d-ad5c-2e4df937dc3c",
   "metadata": {},
   "outputs": [
    {
     "data": {
      "text/plain": [
       "6"
      ]
     },
     "execution_count": 122,
     "metadata": {},
     "output_type": "execute_result"
    }
   ],
   "source": [
    "x(2, 3)"
   ]
  },
  {
   "cell_type": "code",
   "execution_count": null,
   "id": "566b04ae-528b-44df-9d9f-7a17db325c6c",
   "metadata": {},
   "outputs": [],
   "source": []
  },
  {
   "cell_type": "code",
   "execution_count": null,
   "id": "6abb3fe6-a035-4b54-981c-5e77350af804",
   "metadata": {},
   "outputs": [],
   "source": []
  },
  {
   "cell_type": "code",
   "execution_count": null,
   "id": "d1bc873d-a9cf-424d-9083-29af64c582b4",
   "metadata": {},
   "outputs": [],
   "source": []
  },
  {
   "cell_type": "code",
   "execution_count": null,
   "id": "5ce528ee-62e9-4e26-8b80-0e7f547735a6",
   "metadata": {},
   "outputs": [],
   "source": []
  },
  {
   "cell_type": "code",
   "execution_count": null,
   "id": "1f5471e9-3b57-4dd7-94e6-d880467b3c49",
   "metadata": {},
   "outputs": [],
   "source": []
  },
  {
   "cell_type": "code",
   "execution_count": null,
   "id": "d94908bb-8bd3-43af-995b-ff0d2d16e61c",
   "metadata": {},
   "outputs": [],
   "source": []
  },
  {
   "cell_type": "code",
   "execution_count": null,
   "id": "7043a921-c119-4c64-9036-355cfa7d4088",
   "metadata": {},
   "outputs": [],
   "source": []
  },
  {
   "cell_type": "code",
   "execution_count": null,
   "id": "4b669c15-40c1-4d24-92a4-2d0e598c527c",
   "metadata": {},
   "outputs": [],
   "source": []
  },
  {
   "cell_type": "code",
   "execution_count": null,
   "id": "d7da6943-76dc-44c8-821c-d59ab1066a22",
   "metadata": {},
   "outputs": [],
   "source": []
  },
  {
   "cell_type": "code",
   "execution_count": null,
   "id": "5d65b929-05ba-4cbd-aa08-0a4142ceb8a3",
   "metadata": {},
   "outputs": [],
   "source": []
  },
  {
   "cell_type": "code",
   "execution_count": null,
   "id": "707ca753-04bd-4687-82b4-a930f695cd59",
   "metadata": {},
   "outputs": [],
   "source": []
  },
  {
   "cell_type": "code",
   "execution_count": null,
   "id": "57b44e98-4fdf-4acf-9b1c-31f5e7e59515",
   "metadata": {},
   "outputs": [],
   "source": []
  },
  {
   "cell_type": "code",
   "execution_count": null,
   "id": "25eaa940-623e-4b98-ba6b-5f51ca9e5370",
   "metadata": {},
   "outputs": [],
   "source": []
  },
  {
   "cell_type": "code",
   "execution_count": null,
   "id": "98096fca-5b59-45f6-89b3-6d60bc7862f4",
   "metadata": {},
   "outputs": [],
   "source": []
  },
  {
   "cell_type": "code",
   "execution_count": null,
   "id": "5ac5a8b1-36b4-463e-9e24-9e2a3a9d0ae7",
   "metadata": {},
   "outputs": [],
   "source": []
  },
  {
   "cell_type": "code",
   "execution_count": null,
   "id": "42f049cc-f3bf-434d-8ec8-d59aeb54754e",
   "metadata": {},
   "outputs": [],
   "source": []
  },
  {
   "cell_type": "code",
   "execution_count": null,
   "id": "d0ac7605-7701-4c98-adba-c2d4af4946bb",
   "metadata": {},
   "outputs": [],
   "source": []
  },
  {
   "cell_type": "code",
   "execution_count": null,
   "id": "88565ac4-cdbb-48e4-8d09-1d766dbe2fe5",
   "metadata": {},
   "outputs": [],
   "source": []
  },
  {
   "cell_type": "code",
   "execution_count": null,
   "id": "beb47d5e-e345-4143-ab5f-dfdc9e8d95a5",
   "metadata": {},
   "outputs": [],
   "source": []
  },
  {
   "cell_type": "code",
   "execution_count": null,
   "id": "4a9fe635-9625-42a2-b78c-e7acf1124eff",
   "metadata": {},
   "outputs": [],
   "source": []
  },
  {
   "cell_type": "code",
   "execution_count": null,
   "id": "06f1a6d8-8cfe-4b41-b097-42872df70683",
   "metadata": {},
   "outputs": [],
   "source": []
  },
  {
   "cell_type": "code",
   "execution_count": null,
   "id": "2b4128b9-7156-4bfa-af23-7dacac94fb49",
   "metadata": {},
   "outputs": [],
   "source": []
  },
  {
   "cell_type": "code",
   "execution_count": null,
   "id": "5e72770e-b738-413e-9c5a-ec7d879e274d",
   "metadata": {},
   "outputs": [],
   "source": []
  }
 ],
 "metadata": {
  "kernelspec": {
   "display_name": "Python 3 (ipykernel)",
   "language": "python",
   "name": "python3"
  },
  "language_info": {
   "codemirror_mode": {
    "name": "ipython",
    "version": 3
   },
   "file_extension": ".py",
   "mimetype": "text/x-python",
   "name": "python",
   "nbconvert_exporter": "python",
   "pygments_lexer": "ipython3",
   "version": "3.11.7"
  }
 },
 "nbformat": 4,
 "nbformat_minor": 5
}
