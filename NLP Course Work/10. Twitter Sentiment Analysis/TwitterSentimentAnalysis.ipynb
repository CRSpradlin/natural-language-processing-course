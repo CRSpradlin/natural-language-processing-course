{
  "nbformat": 4,
  "nbformat_minor": 0,
  "metadata": {
    "colab": {
      "provenance": [],
      "authorship_tag": "ABX9TyPbv2s3s/vStyfNnTtk1gP4",
      "include_colab_link": true
    },
    "kernelspec": {
      "name": "python3",
      "display_name": "Python 3"
    },
    "language_info": {
      "name": "python"
    }
  },
  "cells": [
    {
      "cell_type": "markdown",
      "metadata": {
        "id": "view-in-github",
        "colab_type": "text"
      },
      "source": [
        "<a href=\"https://colab.research.google.com/github/CRSpradlin/natural-language-processing-course/blob/main/NLP%20Course%20Work/10.%20Twitter%20Sentiment%20Analysis/TwitterSentimentAnalysis.ipynb\" target=\"_parent\"><img src=\"https://colab.research.google.com/assets/colab-badge.svg\" alt=\"Open In Colab\"/></a>"
      ]
    },
    {
      "cell_type": "code",
      "execution_count": 66,
      "metadata": {
        "id": "NCg-ceIu3yjD"
      },
      "outputs": [],
      "source": [
        "# data link: https://raw.githubusercontent.com/laxmimerit/twitter-data/master/twitt30k.csv"
      ]
    },
    {
      "cell_type": "code",
      "source": [
        "import numpy as np\n",
        "import pandas as pd\n"
      ],
      "metadata": {
        "id": "PF3qnuOU4TSq"
      },
      "execution_count": 67,
      "outputs": []
    },
    {
      "cell_type": "code",
      "source": [
        "from sklearn.model_selection import train_test_split\n",
        "from sklearn.svm import LinearSVC\n",
        "from sklearn.metrics import accuracy_score, classification_report, confusion_matrix\n",
        "\n",
        "from sklearn.feature_extraction.text import TfidfVectorizer"
      ],
      "metadata": {
        "id": "3-pQNYtI4Wpy"
      },
      "execution_count": 68,
      "outputs": []
    },
    {
      "cell_type": "code",
      "source": [
        "df = pd.read_csv('https://raw.githubusercontent.com/laxmimerit/twitter-data/master/twitt30k.csv')\n",
        "df"
      ],
      "metadata": {
        "colab": {
          "base_uri": "https://localhost:8080/",
          "height": 424
        },
        "id": "XMStR8bC4sqB",
        "outputId": "d82c678e-5145-4fd0-cbed-6fcd9f0dc7c2"
      },
      "execution_count": 69,
      "outputs": [
        {
          "output_type": "execute_result",
          "data": {
            "text/plain": [
              "                                                  twitts  sentiment\n",
              "0           @robbiebronniman Sounds like a great night.           1\n",
              "1      Damn the person who stolde my wallet !!!!!  Ma...          1\n",
              "2      Greetings from the piano bench  (photo) http:/...          1\n",
              "3      @drewryanscott i love it!! i love you!! haha f...          1\n",
              "4      @kissthestars Pretty pretty pretty please, pak...          0\n",
              "...                                                  ...        ...\n",
              "29995  @Calumfan1 is it in any way related to photosh...          0\n",
              "29996                   @Swiz_NZ really? wow thats crap           0\n",
              "29997  At the 2010 lexus HS250h press event.  Again, ...          0\n",
              "29998  @karmicunderpath ooooh now there's a nice thou...          1\n",
              "29999  @mariap91 i'd usually ask you about the sun an...          1\n",
              "\n",
              "[30000 rows x 2 columns]"
            ],
            "text/html": [
              "\n",
              "  <div id=\"df-58e9aa12-854a-44a6-a07a-cc75d763cb8a\" class=\"colab-df-container\">\n",
              "    <div>\n",
              "<style scoped>\n",
              "    .dataframe tbody tr th:only-of-type {\n",
              "        vertical-align: middle;\n",
              "    }\n",
              "\n",
              "    .dataframe tbody tr th {\n",
              "        vertical-align: top;\n",
              "    }\n",
              "\n",
              "    .dataframe thead th {\n",
              "        text-align: right;\n",
              "    }\n",
              "</style>\n",
              "<table border=\"1\" class=\"dataframe\">\n",
              "  <thead>\n",
              "    <tr style=\"text-align: right;\">\n",
              "      <th></th>\n",
              "      <th>twitts</th>\n",
              "      <th>sentiment</th>\n",
              "    </tr>\n",
              "  </thead>\n",
              "  <tbody>\n",
              "    <tr>\n",
              "      <th>0</th>\n",
              "      <td>@robbiebronniman Sounds like a great night.</td>\n",
              "      <td>1</td>\n",
              "    </tr>\n",
              "    <tr>\n",
              "      <th>1</th>\n",
              "      <td>Damn the person who stolde my wallet !!!!!  Ma...</td>\n",
              "      <td>1</td>\n",
              "    </tr>\n",
              "    <tr>\n",
              "      <th>2</th>\n",
              "      <td>Greetings from the piano bench  (photo) http:/...</td>\n",
              "      <td>1</td>\n",
              "    </tr>\n",
              "    <tr>\n",
              "      <th>3</th>\n",
              "      <td>@drewryanscott i love it!! i love you!! haha f...</td>\n",
              "      <td>1</td>\n",
              "    </tr>\n",
              "    <tr>\n",
              "      <th>4</th>\n",
              "      <td>@kissthestars Pretty pretty pretty please, pak...</td>\n",
              "      <td>0</td>\n",
              "    </tr>\n",
              "    <tr>\n",
              "      <th>...</th>\n",
              "      <td>...</td>\n",
              "      <td>...</td>\n",
              "    </tr>\n",
              "    <tr>\n",
              "      <th>29995</th>\n",
              "      <td>@Calumfan1 is it in any way related to photosh...</td>\n",
              "      <td>0</td>\n",
              "    </tr>\n",
              "    <tr>\n",
              "      <th>29996</th>\n",
              "      <td>@Swiz_NZ really? wow thats crap</td>\n",
              "      <td>0</td>\n",
              "    </tr>\n",
              "    <tr>\n",
              "      <th>29997</th>\n",
              "      <td>At the 2010 lexus HS250h press event.  Again, ...</td>\n",
              "      <td>0</td>\n",
              "    </tr>\n",
              "    <tr>\n",
              "      <th>29998</th>\n",
              "      <td>@karmicunderpath ooooh now there's a nice thou...</td>\n",
              "      <td>1</td>\n",
              "    </tr>\n",
              "    <tr>\n",
              "      <th>29999</th>\n",
              "      <td>@mariap91 i'd usually ask you about the sun an...</td>\n",
              "      <td>1</td>\n",
              "    </tr>\n",
              "  </tbody>\n",
              "</table>\n",
              "<p>30000 rows × 2 columns</p>\n",
              "</div>\n",
              "    <div class=\"colab-df-buttons\">\n",
              "\n",
              "  <div class=\"colab-df-container\">\n",
              "    <button class=\"colab-df-convert\" onclick=\"convertToInteractive('df-58e9aa12-854a-44a6-a07a-cc75d763cb8a')\"\n",
              "            title=\"Convert this dataframe to an interactive table.\"\n",
              "            style=\"display:none;\">\n",
              "\n",
              "  <svg xmlns=\"http://www.w3.org/2000/svg\" height=\"24px\" viewBox=\"0 -960 960 960\">\n",
              "    <path d=\"M120-120v-720h720v720H120Zm60-500h600v-160H180v160Zm220 220h160v-160H400v160Zm0 220h160v-160H400v160ZM180-400h160v-160H180v160Zm440 0h160v-160H620v160ZM180-180h160v-160H180v160Zm440 0h160v-160H620v160Z\"/>\n",
              "  </svg>\n",
              "    </button>\n",
              "\n",
              "  <style>\n",
              "    .colab-df-container {\n",
              "      display:flex;\n",
              "      gap: 12px;\n",
              "    }\n",
              "\n",
              "    .colab-df-convert {\n",
              "      background-color: #E8F0FE;\n",
              "      border: none;\n",
              "      border-radius: 50%;\n",
              "      cursor: pointer;\n",
              "      display: none;\n",
              "      fill: #1967D2;\n",
              "      height: 32px;\n",
              "      padding: 0 0 0 0;\n",
              "      width: 32px;\n",
              "    }\n",
              "\n",
              "    .colab-df-convert:hover {\n",
              "      background-color: #E2EBFA;\n",
              "      box-shadow: 0px 1px 2px rgba(60, 64, 67, 0.3), 0px 1px 3px 1px rgba(60, 64, 67, 0.15);\n",
              "      fill: #174EA6;\n",
              "    }\n",
              "\n",
              "    .colab-df-buttons div {\n",
              "      margin-bottom: 4px;\n",
              "    }\n",
              "\n",
              "    [theme=dark] .colab-df-convert {\n",
              "      background-color: #3B4455;\n",
              "      fill: #D2E3FC;\n",
              "    }\n",
              "\n",
              "    [theme=dark] .colab-df-convert:hover {\n",
              "      background-color: #434B5C;\n",
              "      box-shadow: 0px 1px 3px 1px rgba(0, 0, 0, 0.15);\n",
              "      filter: drop-shadow(0px 1px 2px rgba(0, 0, 0, 0.3));\n",
              "      fill: #FFFFFF;\n",
              "    }\n",
              "  </style>\n",
              "\n",
              "    <script>\n",
              "      const buttonEl =\n",
              "        document.querySelector('#df-58e9aa12-854a-44a6-a07a-cc75d763cb8a button.colab-df-convert');\n",
              "      buttonEl.style.display =\n",
              "        google.colab.kernel.accessAllowed ? 'block' : 'none';\n",
              "\n",
              "      async function convertToInteractive(key) {\n",
              "        const element = document.querySelector('#df-58e9aa12-854a-44a6-a07a-cc75d763cb8a');\n",
              "        const dataTable =\n",
              "          await google.colab.kernel.invokeFunction('convertToInteractive',\n",
              "                                                    [key], {});\n",
              "        if (!dataTable) return;\n",
              "\n",
              "        const docLinkHtml = 'Like what you see? Visit the ' +\n",
              "          '<a target=\"_blank\" href=https://colab.research.google.com/notebooks/data_table.ipynb>data table notebook</a>'\n",
              "          + ' to learn more about interactive tables.';\n",
              "        element.innerHTML = '';\n",
              "        dataTable['output_type'] = 'display_data';\n",
              "        await google.colab.output.renderOutput(dataTable, element);\n",
              "        const docLink = document.createElement('div');\n",
              "        docLink.innerHTML = docLinkHtml;\n",
              "        element.appendChild(docLink);\n",
              "      }\n",
              "    </script>\n",
              "  </div>\n",
              "\n",
              "\n",
              "<div id=\"df-b7dd0d96-c668-42af-8d60-b7f1062855a6\">\n",
              "  <button class=\"colab-df-quickchart\" onclick=\"quickchart('df-b7dd0d96-c668-42af-8d60-b7f1062855a6')\"\n",
              "            title=\"Suggest charts\"\n",
              "            style=\"display:none;\">\n",
              "\n",
              "<svg xmlns=\"http://www.w3.org/2000/svg\" height=\"24px\"viewBox=\"0 0 24 24\"\n",
              "     width=\"24px\">\n",
              "    <g>\n",
              "        <path d=\"M19 3H5c-1.1 0-2 .9-2 2v14c0 1.1.9 2 2 2h14c1.1 0 2-.9 2-2V5c0-1.1-.9-2-2-2zM9 17H7v-7h2v7zm4 0h-2V7h2v10zm4 0h-2v-4h2v4z\"/>\n",
              "    </g>\n",
              "</svg>\n",
              "  </button>\n",
              "\n",
              "<style>\n",
              "  .colab-df-quickchart {\n",
              "      --bg-color: #E8F0FE;\n",
              "      --fill-color: #1967D2;\n",
              "      --hover-bg-color: #E2EBFA;\n",
              "      --hover-fill-color: #174EA6;\n",
              "      --disabled-fill-color: #AAA;\n",
              "      --disabled-bg-color: #DDD;\n",
              "  }\n",
              "\n",
              "  [theme=dark] .colab-df-quickchart {\n",
              "      --bg-color: #3B4455;\n",
              "      --fill-color: #D2E3FC;\n",
              "      --hover-bg-color: #434B5C;\n",
              "      --hover-fill-color: #FFFFFF;\n",
              "      --disabled-bg-color: #3B4455;\n",
              "      --disabled-fill-color: #666;\n",
              "  }\n",
              "\n",
              "  .colab-df-quickchart {\n",
              "    background-color: var(--bg-color);\n",
              "    border: none;\n",
              "    border-radius: 50%;\n",
              "    cursor: pointer;\n",
              "    display: none;\n",
              "    fill: var(--fill-color);\n",
              "    height: 32px;\n",
              "    padding: 0;\n",
              "    width: 32px;\n",
              "  }\n",
              "\n",
              "  .colab-df-quickchart:hover {\n",
              "    background-color: var(--hover-bg-color);\n",
              "    box-shadow: 0 1px 2px rgba(60, 64, 67, 0.3), 0 1px 3px 1px rgba(60, 64, 67, 0.15);\n",
              "    fill: var(--button-hover-fill-color);\n",
              "  }\n",
              "\n",
              "  .colab-df-quickchart-complete:disabled,\n",
              "  .colab-df-quickchart-complete:disabled:hover {\n",
              "    background-color: var(--disabled-bg-color);\n",
              "    fill: var(--disabled-fill-color);\n",
              "    box-shadow: none;\n",
              "  }\n",
              "\n",
              "  .colab-df-spinner {\n",
              "    border: 2px solid var(--fill-color);\n",
              "    border-color: transparent;\n",
              "    border-bottom-color: var(--fill-color);\n",
              "    animation:\n",
              "      spin 1s steps(1) infinite;\n",
              "  }\n",
              "\n",
              "  @keyframes spin {\n",
              "    0% {\n",
              "      border-color: transparent;\n",
              "      border-bottom-color: var(--fill-color);\n",
              "      border-left-color: var(--fill-color);\n",
              "    }\n",
              "    20% {\n",
              "      border-color: transparent;\n",
              "      border-left-color: var(--fill-color);\n",
              "      border-top-color: var(--fill-color);\n",
              "    }\n",
              "    30% {\n",
              "      border-color: transparent;\n",
              "      border-left-color: var(--fill-color);\n",
              "      border-top-color: var(--fill-color);\n",
              "      border-right-color: var(--fill-color);\n",
              "    }\n",
              "    40% {\n",
              "      border-color: transparent;\n",
              "      border-right-color: var(--fill-color);\n",
              "      border-top-color: var(--fill-color);\n",
              "    }\n",
              "    60% {\n",
              "      border-color: transparent;\n",
              "      border-right-color: var(--fill-color);\n",
              "    }\n",
              "    80% {\n",
              "      border-color: transparent;\n",
              "      border-right-color: var(--fill-color);\n",
              "      border-bottom-color: var(--fill-color);\n",
              "    }\n",
              "    90% {\n",
              "      border-color: transparent;\n",
              "      border-bottom-color: var(--fill-color);\n",
              "    }\n",
              "  }\n",
              "</style>\n",
              "\n",
              "  <script>\n",
              "    async function quickchart(key) {\n",
              "      const quickchartButtonEl =\n",
              "        document.querySelector('#' + key + ' button');\n",
              "      quickchartButtonEl.disabled = true;  // To prevent multiple clicks.\n",
              "      quickchartButtonEl.classList.add('colab-df-spinner');\n",
              "      try {\n",
              "        const charts = await google.colab.kernel.invokeFunction(\n",
              "            'suggestCharts', [key], {});\n",
              "      } catch (error) {\n",
              "        console.error('Error during call to suggestCharts:', error);\n",
              "      }\n",
              "      quickchartButtonEl.classList.remove('colab-df-spinner');\n",
              "      quickchartButtonEl.classList.add('colab-df-quickchart-complete');\n",
              "    }\n",
              "    (() => {\n",
              "      let quickchartButtonEl =\n",
              "        document.querySelector('#df-b7dd0d96-c668-42af-8d60-b7f1062855a6 button');\n",
              "      quickchartButtonEl.style.display =\n",
              "        google.colab.kernel.accessAllowed ? 'block' : 'none';\n",
              "    })();\n",
              "  </script>\n",
              "</div>\n",
              "\n",
              "  <div id=\"id_3484ef50-432b-4560-b002-b23fef61c5b8\">\n",
              "    <style>\n",
              "      .colab-df-generate {\n",
              "        background-color: #E8F0FE;\n",
              "        border: none;\n",
              "        border-radius: 50%;\n",
              "        cursor: pointer;\n",
              "        display: none;\n",
              "        fill: #1967D2;\n",
              "        height: 32px;\n",
              "        padding: 0 0 0 0;\n",
              "        width: 32px;\n",
              "      }\n",
              "\n",
              "      .colab-df-generate:hover {\n",
              "        background-color: #E2EBFA;\n",
              "        box-shadow: 0px 1px 2px rgba(60, 64, 67, 0.3), 0px 1px 3px 1px rgba(60, 64, 67, 0.15);\n",
              "        fill: #174EA6;\n",
              "      }\n",
              "\n",
              "      [theme=dark] .colab-df-generate {\n",
              "        background-color: #3B4455;\n",
              "        fill: #D2E3FC;\n",
              "      }\n",
              "\n",
              "      [theme=dark] .colab-df-generate:hover {\n",
              "        background-color: #434B5C;\n",
              "        box-shadow: 0px 1px 3px 1px rgba(0, 0, 0, 0.15);\n",
              "        filter: drop-shadow(0px 1px 2px rgba(0, 0, 0, 0.3));\n",
              "        fill: #FFFFFF;\n",
              "      }\n",
              "    </style>\n",
              "    <button class=\"colab-df-generate\" onclick=\"generateWithVariable('df')\"\n",
              "            title=\"Generate code using this dataframe.\"\n",
              "            style=\"display:none;\">\n",
              "\n",
              "  <svg xmlns=\"http://www.w3.org/2000/svg\" height=\"24px\"viewBox=\"0 0 24 24\"\n",
              "       width=\"24px\">\n",
              "    <path d=\"M7,19H8.4L18.45,9,17,7.55,7,17.6ZM5,21V16.75L18.45,3.32a2,2,0,0,1,2.83,0l1.4,1.43a1.91,1.91,0,0,1,.58,1.4,1.91,1.91,0,0,1-.58,1.4L9.25,21ZM18.45,9,17,7.55Zm-12,3A5.31,5.31,0,0,0,4.9,8.1,5.31,5.31,0,0,0,1,6.5,5.31,5.31,0,0,0,4.9,4.9,5.31,5.31,0,0,0,6.5,1,5.31,5.31,0,0,0,8.1,4.9,5.31,5.31,0,0,0,12,6.5,5.46,5.46,0,0,0,6.5,12Z\"/>\n",
              "  </svg>\n",
              "    </button>\n",
              "    <script>\n",
              "      (() => {\n",
              "      const buttonEl =\n",
              "        document.querySelector('#id_3484ef50-432b-4560-b002-b23fef61c5b8 button.colab-df-generate');\n",
              "      buttonEl.style.display =\n",
              "        google.colab.kernel.accessAllowed ? 'block' : 'none';\n",
              "\n",
              "      buttonEl.onclick = () => {\n",
              "        google.colab.notebook.generateWithVariable('df');\n",
              "      }\n",
              "      })();\n",
              "    </script>\n",
              "  </div>\n",
              "\n",
              "    </div>\n",
              "  </div>\n"
            ],
            "application/vnd.google.colaboratory.intrinsic+json": {
              "type": "dataframe",
              "variable_name": "df",
              "summary": "{\n  \"name\": \"df\",\n  \"rows\": 30000,\n  \"fields\": [\n    {\n      \"column\": \"twitts\",\n      \"properties\": {\n        \"dtype\": \"string\",\n        \"num_unique_values\": 29961,\n        \"samples\": [\n          \"Im chillin with my friends and their boyfriends/husbands and kids  where's a man for me?\",\n          \"@SheilaCWright Thanks for following.......but if I get any more energy I'll spin out of control!  \",\n          \"@CHRISDJMOYLES morning Chris, have alook at this  -  http://tinyurl.com/lsrh3k - u will love it!\"\n        ],\n        \"semantic_type\": \"\",\n        \"description\": \"\"\n      }\n    },\n    {\n      \"column\": \"sentiment\",\n      \"properties\": {\n        \"dtype\": \"number\",\n        \"std\": 0,\n        \"min\": 0,\n        \"max\": 1,\n        \"num_unique_values\": 2,\n        \"samples\": [\n          0,\n          1\n        ],\n        \"semantic_type\": \"\",\n        \"description\": \"\"\n      }\n    }\n  ]\n}"
            }
          },
          "metadata": {},
          "execution_count": 69
        }
      ]
    },
    {
      "cell_type": "markdown",
      "source": [
        "1's are a positive sentiment and 0's are a negative sentiment."
      ],
      "metadata": {
        "id": "a4c46po847Bv"
      }
    },
    {
      "cell_type": "code",
      "source": [
        "df['sentiment'].value_counts()"
      ],
      "metadata": {
        "colab": {
          "base_uri": "https://localhost:8080/"
        },
        "id": "M0WC2Ka244Qn",
        "outputId": "fdcd9666-4b37-4bd0-ae42-9a220f9425f9"
      },
      "execution_count": 70,
      "outputs": [
        {
          "output_type": "execute_result",
          "data": {
            "text/plain": [
              "sentiment\n",
              "1    15000\n",
              "0    15000\n",
              "Name: count, dtype: int64"
            ]
          },
          "metadata": {},
          "execution_count": 70
        }
      ]
    },
    {
      "cell_type": "markdown",
      "source": [
        "## SVM Model and Data Preparation"
      ],
      "metadata": {
        "id": "SDOtDILt5Ia9"
      }
    },
    {
      "cell_type": "code",
      "source": [
        "tweet_content = df['twitts']\n",
        "tweet_sentiment = df['sentiment']\n",
        "\n",
        "tfidf = TfidfVectorizer()\n",
        "x = tfidf.fit_transform(tweet_content)\n",
        "\n",
        "x_train, x_test, y_train, y_test = train_test_split(x, tweet_sentiment, test_size = 0.2, random_state = 0, stratify = tweet_sentiment)\n",
        "\n",
        "print('shape of x: ', x.shape)\n",
        "\n",
        "clf = LinearSVC()\n",
        "clf.fit(x_train, y_train)\n",
        "\n",
        "y_pred = clf.predict(x_test)"
      ],
      "metadata": {
        "colab": {
          "base_uri": "https://localhost:8080/"
        },
        "id": "Gmv8JgIb5Ex1",
        "outputId": "a2018c91-d8e1-45e0-83b3-88ebce760a04"
      },
      "execution_count": 71,
      "outputs": [
        {
          "output_type": "stream",
          "name": "stdout",
          "text": [
            "shape of x:  (30000, 40854)\n"
          ]
        }
      ]
    },
    {
      "cell_type": "code",
      "source": [
        "print(classification_report(y_test, y_pred))"
      ],
      "metadata": {
        "colab": {
          "base_uri": "https://localhost:8080/"
        },
        "id": "Joa9X21U6d8U",
        "outputId": "673f1cfb-cb8c-4b1f-f37d-21416cac67a2"
      },
      "execution_count": 72,
      "outputs": [
        {
          "output_type": "stream",
          "name": "stdout",
          "text": [
            "              precision    recall  f1-score   support\n",
            "\n",
            "           0       0.75      0.74      0.75      3000\n",
            "           1       0.74      0.75      0.75      3000\n",
            "\n",
            "    accuracy                           0.75      6000\n",
            "   macro avg       0.75      0.75      0.75      6000\n",
            "weighted avg       0.75      0.75      0.75      6000\n",
            "\n"
          ]
        }
      ]
    },
    {
      "cell_type": "code",
      "source": [
        "def run_svm(df):\n",
        "  tweet_content = df['twitts']\n",
        "  tweet_sentiment = df['sentiment']\n",
        "\n",
        "  tfidf = TfidfVectorizer()\n",
        "  x = tfidf.fit_transform(tweet_content)\n",
        "\n",
        "  x_train, x_test, y_train, y_test = train_test_split(x, tweet_sentiment, test_size = 0.2, random_state = 0, stratify = tweet_sentiment)\n",
        "\n",
        "  print('shape of x: ', x.shape)\n",
        "\n",
        "  clf = LinearSVC()\n",
        "  clf.fit(x_train, y_train)\n",
        "\n",
        "  y_pred = clf.predict(x_test)\n",
        "\n",
        "  print(\"\\nClassification Report\")\n",
        "  print(classification_report(y_test, y_pred))\n",
        "\n",
        "  return tfidf, clf"
      ],
      "metadata": {
        "id": "OzFX4HPq60Tq"
      },
      "execution_count": 73,
      "outputs": []
    },
    {
      "cell_type": "code",
      "source": [
        "%%time\n",
        "tfidf, clf = run_svm(df)"
      ],
      "metadata": {
        "colab": {
          "base_uri": "https://localhost:8080/"
        },
        "id": "4rrr2g4L7mAP",
        "outputId": "1d527d74-1303-4ba6-ea13-d96dd6154401"
      },
      "execution_count": 74,
      "outputs": [
        {
          "output_type": "stream",
          "name": "stdout",
          "text": [
            "shape of x:  (30000, 40854)\n",
            "\n",
            "Classification Report\n",
            "              precision    recall  f1-score   support\n",
            "\n",
            "           0       0.75      0.74      0.75      3000\n",
            "           1       0.74      0.75      0.75      3000\n",
            "\n",
            "    accuracy                           0.75      6000\n",
            "   macro avg       0.75      0.75      0.75      6000\n",
            "weighted avg       0.75      0.75      0.75      6000\n",
            "\n",
            "CPU times: user 815 ms, sys: 3.86 ms, total: 819 ms\n",
            "Wall time: 820 ms\n"
          ]
        }
      ]
    },
    {
      "cell_type": "markdown",
      "source": [
        "Now to test the model using the generated clf."
      ],
      "metadata": {
        "id": "_9mvoZ4u8CHl"
      }
    },
    {
      "cell_type": "code",
      "source": [
        "x = 'i am excited to see my best friend to get married'"
      ],
      "metadata": {
        "id": "b1iOxpiW7nan"
      },
      "execution_count": 75,
      "outputs": []
    },
    {
      "cell_type": "code",
      "source": [
        "clf.predict(tfidf.transform([x]))"
      ],
      "metadata": {
        "colab": {
          "base_uri": "https://localhost:8080/"
        },
        "id": "kf2zsYkS70rB",
        "outputId": "055c64d9-08be-48a2-f66b-6186e215ae6f"
      },
      "execution_count": 76,
      "outputs": [
        {
          "output_type": "execute_result",
          "data": {
            "text/plain": [
              "array([1])"
            ]
          },
          "metadata": {},
          "execution_count": 76
        }
      ]
    },
    {
      "cell_type": "markdown",
      "source": [
        "The example has been deemed as a positive sentiment statement."
      ],
      "metadata": {
        "id": "VPi3_bd_8KEZ"
      }
    },
    {
      "cell_type": "markdown",
      "source": [
        "## Data Cleaning and Retraining SVM\n",
        "Now it is time to use the python package we created to help perform some data cleaning."
      ],
      "metadata": {
        "id": "ug8XPe5p8W_h"
      }
    },
    {
      "cell_type": "code",
      "source": [
        "!pip install \"git+https://github.com/CRSpradlin/natural-language-processing-course.git#egg=preprocess_crspradlin&subdirectory=NLP Course Work/7. Packaging/Preprocessing Package\""
      ],
      "metadata": {
        "colab": {
          "base_uri": "https://localhost:8080/"
        },
        "id": "ME8vKU6Q8dxU",
        "outputId": "7818bf37-581a-4c0b-9ac3-36ddb92c4fab"
      },
      "execution_count": 77,
      "outputs": [
        {
          "output_type": "stream",
          "name": "stdout",
          "text": [
            "Collecting preprocess_crspradlin\n",
            "  Cloning https://github.com/CRSpradlin/natural-language-processing-course.git to /tmp/pip-install-wdalzflf/preprocess-crspradlin_e318fd9be9d04e48b4ea28a9f273fcfc\n",
            "  Running command git clone --filter=blob:none --quiet https://github.com/CRSpradlin/natural-language-processing-course.git /tmp/pip-install-wdalzflf/preprocess-crspradlin_e318fd9be9d04e48b4ea28a9f273fcfc\n",
            "  Resolved https://github.com/CRSpradlin/natural-language-processing-course.git to commit 74464ea17c49105e49abec4665cc559a3ed3df9b\n",
            "  Preparing metadata (setup.py) ... \u001b[?25l\u001b[?25hdone\n"
          ]
        }
      ]
    },
    {
      "cell_type": "code",
      "source": [
        "import preprocess_crspradlin as prep"
      ],
      "metadata": {
        "id": "cRBE7weF85l-"
      },
      "execution_count": 78,
      "outputs": []
    },
    {
      "cell_type": "code",
      "source": [
        "prep.__version__"
      ],
      "metadata": {
        "colab": {
          "base_uri": "https://localhost:8080/",
          "height": 35
        },
        "id": "R2IAZEIR9Eym",
        "outputId": "3f729d9b-295f-4de0-b095-d87a45790d74"
      },
      "execution_count": 79,
      "outputs": [
        {
          "output_type": "execute_result",
          "data": {
            "text/plain": [
              "'0.0.1'"
            ],
            "application/vnd.google.colaboratory.intrinsic+json": {
              "type": "string"
            }
          },
          "metadata": {},
          "execution_count": 79
        }
      ]
    },
    {
      "cell_type": "code",
      "source": [
        "# Apply lowercase modifier\n",
        "df['twitts'] = df.twitts.apply(lambda x: x.lower())"
      ],
      "metadata": {
        "id": "sNgDQo3k9LFw"
      },
      "execution_count": 80,
      "outputs": []
    },
    {
      "cell_type": "code",
      "source": [
        "# Apply Contraction to Expansion modifier\n",
        "df['twitts'] = df.twitts.apply(lambda x: prep.get_contraction_to_expansion(x))"
      ],
      "metadata": {
        "id": "px2EB8N49f89"
      },
      "execution_count": 81,
      "outputs": []
    },
    {
      "cell_type": "code",
      "source": [
        "run_svm(df)"
      ],
      "metadata": {
        "colab": {
          "base_uri": "https://localhost:8080/"
        },
        "id": "JqNY9MdS9vOo",
        "outputId": "bae12308-1ed0-49fe-b169-21840f6bd580"
      },
      "execution_count": 82,
      "outputs": [
        {
          "output_type": "stream",
          "name": "stdout",
          "text": [
            "shape of x:  (30000, 40850)\n",
            "\n",
            "Classification Report\n",
            "              precision    recall  f1-score   support\n",
            "\n",
            "           0       0.75      0.74      0.75      3000\n",
            "           1       0.75      0.76      0.75      3000\n",
            "\n",
            "    accuracy                           0.75      6000\n",
            "   macro avg       0.75      0.75      0.75      6000\n",
            "weighted avg       0.75      0.75      0.75      6000\n",
            "\n"
          ]
        },
        {
          "output_type": "execute_result",
          "data": {
            "text/plain": [
              "(TfidfVectorizer(), LinearSVC())"
            ]
          },
          "metadata": {},
          "execution_count": 82
        }
      ]
    },
    {
      "cell_type": "markdown",
      "source": [
        "Not a major improvement overall but there is little improvement in recall."
      ],
      "metadata": {
        "id": "JtwUWgp39-NW"
      }
    },
    {
      "cell_type": "code",
      "source": [
        "# Apply removal modifiers\n",
        "df['twitts'] = df.twitts.apply(lambda x: prep.remove_emails(x))\n",
        "df['twitts'] = df.twitts.apply(lambda x: prep.remove_urls(x))\n",
        "df['twitts'] = df.twitts.apply(lambda x: prep.remove_rt(x))\n",
        "df['twitts'] = df.twitts.apply(lambda x: prep.remove_html_tags(x))\n",
        "df['twitts'] = df.twitts.apply(lambda x: prep.remove_special_chars(x))"
      ],
      "metadata": {
        "colab": {
          "base_uri": "https://localhost:8080/"
        },
        "id": "H7RfHGJ89wwX",
        "outputId": "872e15b0-bb6e-4c3f-f002-062d35267d03"
      },
      "execution_count": 83,
      "outputs": [
        {
          "output_type": "stream",
          "name": "stderr",
          "text": [
            "/usr/local/lib/python3.10/dist-packages/preprocess_crspradlin/utils.py:168: MarkupResemblesLocatorWarning: The input looks more like a filename than markup. You may want to open this file and pass the filehandle into Beautiful Soup.\n",
            "  return BeautifulSoup(x, 'lxml').get_text().strip()\n"
          ]
        }
      ]
    },
    {
      "cell_type": "code",
      "source": [
        "tfidf, clf = run_svm(df)"
      ],
      "metadata": {
        "colab": {
          "base_uri": "https://localhost:8080/"
        },
        "id": "pBvw2tSW_BW1",
        "outputId": "33bcc1f0-39b1-440e-bda6-8b80e4463668"
      },
      "execution_count": 84,
      "outputs": [
        {
          "output_type": "stream",
          "name": "stdout",
          "text": [
            "shape of x:  (30000, 43375)\n",
            "\n",
            "Classification Report\n",
            "              precision    recall  f1-score   support\n",
            "\n",
            "           0       0.75      0.74      0.74      3000\n",
            "           1       0.74      0.75      0.75      3000\n",
            "\n",
            "    accuracy                           0.74      6000\n",
            "   macro avg       0.74      0.74      0.74      6000\n",
            "weighted avg       0.74      0.74      0.74      6000\n",
            "\n"
          ]
        }
      ]
    },
    {
      "cell_type": "markdown",
      "source": [
        "Still no change in results but the data has been \"cleaned up\"."
      ],
      "metadata": {
        "id": "AB4sOJix_hhp"
      }
    },
    {
      "cell_type": "code",
      "source": [
        "clf.predict(tfidf.transform([x]))"
      ],
      "metadata": {
        "colab": {
          "base_uri": "https://localhost:8080/"
        },
        "id": "Qg2bG1tt_VSf",
        "outputId": "bd683d27-4d14-4c51-c413-504959403623"
      },
      "execution_count": 85,
      "outputs": [
        {
          "output_type": "execute_result",
          "data": {
            "text/plain": [
              "array([1])"
            ]
          },
          "metadata": {},
          "execution_count": 85
        }
      ]
    },
    {
      "cell_type": "markdown",
      "source": [
        "## Fine Tuning the Model\n",
        "Trying to get the model to have a higher percentage of accuracy."
      ],
      "metadata": {
        "id": "fH0vhMrx_nSy"
      }
    },
    {
      "cell_type": "code",
      "source": [
        "def run_svm(df):\n",
        "  tweet_content = df['twitts']\n",
        "  tweet_sentiment = df['sentiment']\n",
        "\n",
        "  ## UPDATES HERE ##\n",
        "  tfidf = TfidfVectorizer(norm = 'l1')\n",
        "  ####\n",
        "  x = tfidf.fit_transform(tweet_content)\n",
        "\n",
        "  x_train, x_test, y_train, y_test = train_test_split(x, tweet_sentiment, test_size = 0.2, random_state = 0, stratify = tweet_sentiment)\n",
        "\n",
        "  print('shape of x: ', x.shape)\n",
        "\n",
        "  clf = LinearSVC()\n",
        "  clf.fit(x_train, y_train)\n",
        "\n",
        "  y_pred = clf.predict(x_test)\n",
        "\n",
        "  print(\"\\nClassification Report\")\n",
        "  print(classification_report(y_test, y_pred))\n",
        "\n",
        "  return tfidf, clf"
      ],
      "metadata": {
        "id": "Reo3i9wZ_fCs"
      },
      "execution_count": 86,
      "outputs": []
    },
    {
      "cell_type": "code",
      "source": [
        "run_svm(df)"
      ],
      "metadata": {
        "colab": {
          "base_uri": "https://localhost:8080/"
        },
        "id": "7gqklDsB_-ik",
        "outputId": "584f195f-07cb-4870-e8b6-b980755d283a"
      },
      "execution_count": 87,
      "outputs": [
        {
          "output_type": "stream",
          "name": "stdout",
          "text": [
            "shape of x:  (30000, 43375)\n",
            "\n",
            "Classification Report\n",
            "              precision    recall  f1-score   support\n",
            "\n",
            "           0       0.76      0.75      0.76      3000\n",
            "           1       0.75      0.76      0.76      3000\n",
            "\n",
            "    accuracy                           0.76      6000\n",
            "   macro avg       0.76      0.76      0.76      6000\n",
            "weighted avg       0.76      0.76      0.76      6000\n",
            "\n"
          ]
        },
        {
          "output_type": "execute_result",
          "data": {
            "text/plain": [
              "(TfidfVectorizer(norm='l1'), LinearSVC())"
            ]
          },
          "metadata": {},
          "execution_count": 87
        }
      ]
    },
    {
      "cell_type": "markdown",
      "source": [
        "With the changes to the TfidfVectorizer, you can see an increase to the results. Lets try to make additional adjustments to see how high the percentages get."
      ],
      "metadata": {
        "id": "-9DJG_9bADnA"
      }
    },
    {
      "cell_type": "code",
      "source": [
        "def run_svm(df):\n",
        "  tweet_content = df['twitts']\n",
        "  tweet_sentiment = df['sentiment']\n",
        "\n",
        "  ## UPDATES HERE ##\n",
        "  tfidf = TfidfVectorizer(norm = 'l1', ngram_range=(1,5), analyzer='word', max_features=5000)\n",
        "  ####\n",
        "  x = tfidf.fit_transform(tweet_content)\n",
        "\n",
        "  x_train, x_test, y_train, y_test = train_test_split(x, tweet_sentiment, test_size = 0.2, random_state = 0, stratify = tweet_sentiment)\n",
        "\n",
        "  print('shape of x: ', x.shape)\n",
        "\n",
        "  clf = LinearSVC()\n",
        "  clf.fit(x_train, y_train)\n",
        "\n",
        "  y_pred = clf.predict(x_test)\n",
        "\n",
        "  print(\"\\nClassification Report\")\n",
        "  print(classification_report(y_test, y_pred))\n",
        "\n",
        "  return tfidf, clf"
      ],
      "metadata": {
        "id": "Vq4RDA_BAAfB"
      },
      "execution_count": 88,
      "outputs": []
    },
    {
      "cell_type": "code",
      "source": [
        "tfidf, clf = run_svm(df)"
      ],
      "metadata": {
        "colab": {
          "base_uri": "https://localhost:8080/"
        },
        "id": "RHMAGiygAnHs",
        "outputId": "a1a2dba2-9647-4ee6-9c9e-dd73e11b4bfd"
      },
      "execution_count": 89,
      "outputs": [
        {
          "output_type": "stream",
          "name": "stdout",
          "text": [
            "shape of x:  (30000, 5000)\n",
            "\n",
            "Classification Report\n",
            "              precision    recall  f1-score   support\n",
            "\n",
            "           0       0.75      0.77      0.76      3000\n",
            "           1       0.76      0.74      0.75      3000\n",
            "\n",
            "    accuracy                           0.76      6000\n",
            "   macro avg       0.76      0.76      0.76      6000\n",
            "weighted avg       0.76      0.76      0.76      6000\n",
            "\n"
          ]
        }
      ]
    },
    {
      "cell_type": "markdown",
      "source": [
        "## Saving and Loading ML Model"
      ],
      "metadata": {
        "id": "ojxU65gSBJGr"
      }
    },
    {
      "cell_type": "code",
      "source": [
        "import pickle"
      ],
      "metadata": {
        "id": "OBFgtOtOAo7l"
      },
      "execution_count": 90,
      "outputs": []
    },
    {
      "cell_type": "code",
      "source": [
        "pickle.dump(clf, open('clf.pkl', 'wb')) # Write obj in write-binary mode\n",
        "pickle.dump(tfidf, open('tfidf.pkl', 'wb'))"
      ],
      "metadata": {
        "id": "ozf4eMKHBOC1"
      },
      "execution_count": 91,
      "outputs": []
    },
    {
      "cell_type": "code",
      "source": [
        "del clf\n",
        "del tfidf\n",
        "# print(clf) # fails since clf and tfidf are no longer defined"
      ],
      "metadata": {
        "id": "oMuGlbNjBnHX"
      },
      "execution_count": 92,
      "outputs": []
    },
    {
      "cell_type": "code",
      "source": [
        "clf = pickle.load(open('clf.pkl', 'rb')) # open file in read-binary mode"
      ],
      "metadata": {
        "id": "de89cbefBvRZ"
      },
      "execution_count": 93,
      "outputs": []
    },
    {
      "cell_type": "code",
      "source": [
        "tfidf = pickle.load(open('tfidf.pkl', 'rb'))"
      ],
      "metadata": {
        "id": "nh6Je3b7CWir"
      },
      "execution_count": 94,
      "outputs": []
    },
    {
      "cell_type": "code",
      "source": [
        "clf"
      ],
      "metadata": {
        "colab": {
          "base_uri": "https://localhost:8080/",
          "height": 75
        },
        "id": "AWRXv984Cb1M",
        "outputId": "a6ae768e-6752-4d93-9ab2-adfc034c7c3e"
      },
      "execution_count": 95,
      "outputs": [
        {
          "output_type": "execute_result",
          "data": {
            "text/plain": [
              "LinearSVC()"
            ],
            "text/html": [
              "<style>#sk-container-id-2 {color: black;background-color: white;}#sk-container-id-2 pre{padding: 0;}#sk-container-id-2 div.sk-toggleable {background-color: white;}#sk-container-id-2 label.sk-toggleable__label {cursor: pointer;display: block;width: 100%;margin-bottom: 0;padding: 0.3em;box-sizing: border-box;text-align: center;}#sk-container-id-2 label.sk-toggleable__label-arrow:before {content: \"▸\";float: left;margin-right: 0.25em;color: #696969;}#sk-container-id-2 label.sk-toggleable__label-arrow:hover:before {color: black;}#sk-container-id-2 div.sk-estimator:hover label.sk-toggleable__label-arrow:before {color: black;}#sk-container-id-2 div.sk-toggleable__content {max-height: 0;max-width: 0;overflow: hidden;text-align: left;background-color: #f0f8ff;}#sk-container-id-2 div.sk-toggleable__content pre {margin: 0.2em;color: black;border-radius: 0.25em;background-color: #f0f8ff;}#sk-container-id-2 input.sk-toggleable__control:checked~div.sk-toggleable__content {max-height: 200px;max-width: 100%;overflow: auto;}#sk-container-id-2 input.sk-toggleable__control:checked~label.sk-toggleable__label-arrow:before {content: \"▾\";}#sk-container-id-2 div.sk-estimator input.sk-toggleable__control:checked~label.sk-toggleable__label {background-color: #d4ebff;}#sk-container-id-2 div.sk-label input.sk-toggleable__control:checked~label.sk-toggleable__label {background-color: #d4ebff;}#sk-container-id-2 input.sk-hidden--visually {border: 0;clip: rect(1px 1px 1px 1px);clip: rect(1px, 1px, 1px, 1px);height: 1px;margin: -1px;overflow: hidden;padding: 0;position: absolute;width: 1px;}#sk-container-id-2 div.sk-estimator {font-family: monospace;background-color: #f0f8ff;border: 1px dotted black;border-radius: 0.25em;box-sizing: border-box;margin-bottom: 0.5em;}#sk-container-id-2 div.sk-estimator:hover {background-color: #d4ebff;}#sk-container-id-2 div.sk-parallel-item::after {content: \"\";width: 100%;border-bottom: 1px solid gray;flex-grow: 1;}#sk-container-id-2 div.sk-label:hover label.sk-toggleable__label {background-color: #d4ebff;}#sk-container-id-2 div.sk-serial::before {content: \"\";position: absolute;border-left: 1px solid gray;box-sizing: border-box;top: 0;bottom: 0;left: 50%;z-index: 0;}#sk-container-id-2 div.sk-serial {display: flex;flex-direction: column;align-items: center;background-color: white;padding-right: 0.2em;padding-left: 0.2em;position: relative;}#sk-container-id-2 div.sk-item {position: relative;z-index: 1;}#sk-container-id-2 div.sk-parallel {display: flex;align-items: stretch;justify-content: center;background-color: white;position: relative;}#sk-container-id-2 div.sk-item::before, #sk-container-id-2 div.sk-parallel-item::before {content: \"\";position: absolute;border-left: 1px solid gray;box-sizing: border-box;top: 0;bottom: 0;left: 50%;z-index: -1;}#sk-container-id-2 div.sk-parallel-item {display: flex;flex-direction: column;z-index: 1;position: relative;background-color: white;}#sk-container-id-2 div.sk-parallel-item:first-child::after {align-self: flex-end;width: 50%;}#sk-container-id-2 div.sk-parallel-item:last-child::after {align-self: flex-start;width: 50%;}#sk-container-id-2 div.sk-parallel-item:only-child::after {width: 0;}#sk-container-id-2 div.sk-dashed-wrapped {border: 1px dashed gray;margin: 0 0.4em 0.5em 0.4em;box-sizing: border-box;padding-bottom: 0.4em;background-color: white;}#sk-container-id-2 div.sk-label label {font-family: monospace;font-weight: bold;display: inline-block;line-height: 1.2em;}#sk-container-id-2 div.sk-label-container {text-align: center;}#sk-container-id-2 div.sk-container {/* jupyter's `normalize.less` sets `[hidden] { display: none; }` but bootstrap.min.css set `[hidden] { display: none !important; }` so we also need the `!important` here to be able to override the default hidden behavior on the sphinx rendered scikit-learn.org. See: https://github.com/scikit-learn/scikit-learn/issues/21755 */display: inline-block !important;position: relative;}#sk-container-id-2 div.sk-text-repr-fallback {display: none;}</style><div id=\"sk-container-id-2\" class=\"sk-top-container\"><div class=\"sk-text-repr-fallback\"><pre>LinearSVC()</pre><b>In a Jupyter environment, please rerun this cell to show the HTML representation or trust the notebook. <br />On GitHub, the HTML representation is unable to render, please try loading this page with nbviewer.org.</b></div><div class=\"sk-container\" hidden><div class=\"sk-item\"><div class=\"sk-estimator sk-toggleable\"><input class=\"sk-toggleable__control sk-hidden--visually\" id=\"sk-estimator-id-2\" type=\"checkbox\" checked><label for=\"sk-estimator-id-2\" class=\"sk-toggleable__label sk-toggleable__label-arrow\">LinearSVC</label><div class=\"sk-toggleable__content\"><pre>LinearSVC()</pre></div></div></div></div></div>"
            ]
          },
          "metadata": {},
          "execution_count": 95
        }
      ]
    },
    {
      "cell_type": "code",
      "source": [
        "tfidf.vocabulary_"
      ],
      "metadata": {
        "colab": {
          "base_uri": "https://localhost:8080/"
        },
        "id": "-UXYcuczCdnc",
        "outputId": "9e8a6bdb-84a1-4c8e-d7df-7ef3a288ec84"
      },
      "execution_count": 96,
      "outputs": [
        {
          "output_type": "execute_result",
          "data": {
            "text/plain": [
              "{'sounds': 3668,\n",
              " 'like': 2371,\n",
              " 'great': 1574,\n",
              " 'night': 2834,\n",
              " 'sounds like': 3670,\n",
              " 'damn': 874,\n",
              " 'the': 3892,\n",
              " 'person': 3200,\n",
              " 'who': 4672,\n",
              " 'my': 2710,\n",
              " 'may': 2534,\n",
              " 'come': 784,\n",
              " 'back': 402,\n",
              " 'and': 215,\n",
              " 'you': 4887,\n",
              " 'in': 1908,\n",
              " 'ass': 356,\n",
              " 'come back': 785,\n",
              " 'back and': 403,\n",
              " 'you in': 4937,\n",
              " 'in the': 1939,\n",
              " 'from': 1383,\n",
              " 'photo': 3207,\n",
              " 'from the': 1387,\n",
              " 'love': 2454,\n",
              " 'it': 2084,\n",
              " 'haha': 1612,\n",
              " 'forget': 1359,\n",
              " 'should': 3512,\n",
              " 'give': 1461,\n",
              " 'me': 2541,\n",
              " 'lie': 2366,\n",
              " 'please': 3234,\n",
              " 'would': 4816,\n",
              " 'be': 440,\n",
              " 'awesome': 392,\n",
              " 'if': 1872,\n",
              " 'did': 940,\n",
              " 'love it': 2457,\n",
              " 'love you': 2467,\n",
              " 'give me': 1463,\n",
              " 'it would': 2161,\n",
              " 'would be': 4817,\n",
              " 'if you': 1886,\n",
              " 'you did': 4913,\n",
              " 'it would be': 2162,\n",
              " 'pretty': 3268,\n",
              " 'then': 4025,\n",
              " 'site': 3549,\n",
              " 'skin': 3556,\n",
              " 'really': 3327,\n",
              " 'upset': 4426,\n",
              " 'big': 510,\n",
              " 'pool': 3245,\n",
              " 'or': 3115,\n",
              " 'might': 2609,\n",
              " 'able': 38,\n",
              " 'to': 4137,\n",
              " 'but': 588,\n",
              " 'that': 3842,\n",
              " 'is': 1973,\n",
              " 'as': 338,\n",
              " 'will': 4693,\n",
              " 'get': 1417,\n",
              " 'might be': 2610,\n",
              " 'be able': 441,\n",
              " 'able to': 39,\n",
              " 'in my': 1930,\n",
              " 'but that': 622,\n",
              " 'that is': 3853,\n",
              " 'as it': 342,\n",
              " 'it will': 2158,\n",
              " 'will get': 4702,\n",
              " 'be able to': 442,\n",
              " 'but that is': 623,\n",
              " 'hee': 1744,\n",
              " 'tweet': 4369,\n",
              " 'youre': 4987,\n",
              " 'lol': 2416,\n",
              " 'happy': 1636,\n",
              " 'have': 1669,\n",
              " 'tickets': 4118,\n",
              " 'for': 1301,\n",
              " 'happy to': 1645,\n",
              " 'to have': 4195,\n",
              " 'for the': 1337,\n",
              " 'mileycyrus': 2617,\n",
              " 'miley': 2616,\n",
              " 'look': 2429,\n",
              " 'soooo': 3653,\n",
              " 'much': 2696,\n",
              " 'better': 503,\n",
              " 'this': 4076,\n",
              " 'its': 2166,\n",
              " 'you look': 4943,\n",
              " 'much better': 2699,\n",
              " 'like this': 2380,\n",
              " 'see': 3443,\n",
              " 'found': 1366,\n",
              " 'uh': 4392,\n",
              " 'oh': 3031,\n",
              " 'sound': 3666,\n",
              " 'messed': 2600,\n",
              " 'up': 4403,\n",
              " 'on': 3050,\n",
              " 'cable': 643,\n",
              " 'up on': 4412,\n",
              " 'what': 4619,\n",
              " 'am': 140,\n",
              " 'not': 2866,\n",
              " 'best': 497,\n",
              " 'what am': 4621,\n",
              " 'am not': 173,\n",
              " 'not the': 2932,\n",
              " 'the best': 3897,\n",
              " 'finally': 1249,\n",
              " 'made': 2488,\n",
              " 'peace': 3190,\n",
              " 'to the': 4253,\n",
              " 'and this': 270,\n",
              " 'this is': 4081,\n",
              " 'is the': 2062,\n",
              " 'this is the': 4082,\n",
              " 'mitchelmusso': 2646,\n",
              " 'allowed': 127,\n",
              " 'call': 647,\n",
              " 'live': 2405,\n",
              " 'uk': 4393,\n",
              " 'parents': 3176,\n",
              " 'say': 3421,\n",
              " 'sucks': 3743,\n",
              " 'not allowed': 2867,\n",
              " 'allowed to': 128,\n",
              " 'to call': 4151,\n",
              " 'live in': 2406,\n",
              " 'the uk': 4001,\n",
              " 'my parents': 2767,\n",
              " 'say it': 3423,\n",
              " 'do': 971,\n",
              " 'makes': 2505,\n",
              " 'sad': 3395,\n",
              " 'know': 2287,\n",
              " 'how': 1833,\n",
              " 'talk': 3789,\n",
              " 'so': 3577,\n",
              " 'do it': 974,\n",
              " 'it sucks': 2145,\n",
              " 'makes me': 2507,\n",
              " 'me sad': 2567,\n",
              " 'and you': 282,\n",
              " 'you know': 4940,\n",
              " 'know how': 2290,\n",
              " 'love to': 2464,\n",
              " 'to talk': 4249,\n",
              " 'so it': 3597,\n",
              " 'makes me sad': 2508,\n",
              " 'favourite': 1210,\n",
              " 'which': 4667,\n",
              " 'very': 4444,\n",
              " 'out': 3131,\n",
              " 'of': 2987,\n",
              " 'right': 3377,\n",
              " 'now': 2957,\n",
              " 'my favourite': 2736,\n",
              " 'which is': 4668,\n",
              " 'is very': 2073,\n",
              " 'out of': 3140,\n",
              " 'right now': 3378,\n",
              " 'leaving': 2347,\n",
              " 'hell': 1747,\n",
              " 'car': 701,\n",
              " 'my car': 2724,\n",
              " 'just': 2209,\n",
              " 'realised': 3325,\n",
              " 'ive': 2178,\n",
              " 'spent': 3681,\n",
              " 'clothes': 773,\n",
              " 'today': 4281,\n",
              " 'singing': 3542,\n",
              " 'with': 4744,\n",
              " 'an': 210,\n",
              " 'im': 1893,\n",
              " 'running': 3392,\n",
              " 'battery': 434,\n",
              " '20': 17,\n",
              " 'wont': 4779,\n",
              " 'last': 2320,\n",
              " 'long': 2423,\n",
              " 'anyway': 301,\n",
              " 'planning': 3226,\n",
              " 'soon': 3650,\n",
              " 'more': 2663,\n",
              " 'for long': 1321,\n",
              " 'to get': 4175,\n",
              " 'get out': 1433,\n",
              " 'out soon': 3144,\n",
              " 'and get': 228,\n",
              " 'to get out': 4177,\n",
              " 'was': 4512,\n",
              " 'nice': 2829,\n",
              " 'meeting': 2592,\n",
              " 'too': 4309,\n",
              " 'it was': 2152,\n",
              " 'was really': 4530,\n",
              " 'you too': 4969,\n",
              " 'work': 4786,\n",
              " 'minute': 2626,\n",
              " 'is leaving': 2017,\n",
              " 'leaving for': 2348,\n",
              " 'for work': 1354,\n",
              " 'work in': 4791,\n",
              " 'went': 4607,\n",
              " 'kid': 2265,\n",
              " 'north': 2864,\n",
              " 'sea': 3436,\n",
              " 'they': 4037,\n",
              " 'were': 4611,\n",
              " 'catching': 713,\n",
              " 'them': 4019,\n",
              " 'head': 1726,\n",
              " 'cried': 853,\n",
              " 'whole': 4675,\n",
              " 'time': 4121,\n",
              " 'on the': 3068,\n",
              " 'they were': 4042,\n",
              " 'the whole': 4011,\n",
              " 'at': 357,\n",
              " 'must': 2707,\n",
              " 'eat': 1090,\n",
              " 'first': 1266,\n",
              " 'chinese': 753,\n",
              " 'calling': 650,\n",
              " 'back at': 404,\n",
              " 'at work': 374,\n",
              " 'work but': 4789,\n",
              " 'bad': 417,\n",
              " 'thats': 3890,\n",
              " 'excited': 1165,\n",
              " 'no': 2844,\n",
              " 'go': 1471,\n",
              " 'sorry': 3657,\n",
              " 'is so': 2053,\n",
              " 'so bad': 3579,\n",
              " 'thats what': 3891,\n",
              " 'was so': 4531,\n",
              " 'so so': 3612,\n",
              " 'so excited': 3586,\n",
              " 'and then': 268,\n",
              " 'then it': 4026,\n",
              " 'im so': 1901,\n",
              " 'so sorry': 3614,\n",
              " 'that is so': 3857,\n",
              " 'getting': 1448,\n",
              " 'ready': 3317,\n",
              " 'fun': 1399,\n",
              " 'day': 887,\n",
              " 'laying': 2337,\n",
              " 'sun': 3748,\n",
              " 'before': 487,\n",
              " 'new': 2815,\n",
              " 'schedule': 3430,\n",
              " 'sunday': 3751,\n",
              " 'is getting': 1999,\n",
              " 'getting ready': 1449,\n",
              " 'ready for': 3318,\n",
              " 'fun day': 1402,\n",
              " 'day of': 897,\n",
              " 'out in': 3138,\n",
              " 'the sun': 3991,\n",
              " 'before the': 488,\n",
              " 'the new': 3958,\n",
              " 'getting ready for': 1450,\n",
              " 'in the sun': 1946,\n",
              " 'well': 4595,\n",
              " 'said': 3402,\n",
              " 'by': 638,\n",
              " 'very well': 4451,\n",
              " 'packing': 3163,\n",
              " 'home': 1792,\n",
              " 'to go': 4184,\n",
              " 'go home': 1478,\n",
              " 'home to': 1799,\n",
              " 'to go home': 4187,\n",
              " 'hope': 1805,\n",
              " 'got': 1547,\n",
              " 'your': 4982,\n",
              " 'coz': 844,\n",
              " 'burnt': 584,\n",
              " 'beach': 467,\n",
              " 'yesterday': 4881,\n",
              " 'me and': 2544,\n",
              " 'at the': 368,\n",
              " 'the beach': 3896,\n",
              " 'hi': 1768,\n",
              " 'near': 2794,\n",
              " 'lake': 2315,\n",
              " 'ny': 2983,\n",
              " 'flowers': 1278,\n",
              " 'june': 2207,\n",
              " '1st': 16,\n",
              " 'happens': 1635,\n",
              " 'moving': 2689,\n",
              " 'last night': 2323,\n",
              " 'summer': 3747,\n",
              " 'ball': 424,\n",
              " 'amazing': 207,\n",
              " 'however': 1849,\n",
              " 'feeling': 1223,\n",
              " 'death': 921,\n",
              " 'sitting': 3551,\n",
              " 'bed': 475,\n",
              " 'watching': 4549,\n",
              " 'office': 3027,\n",
              " 'sitting in': 3553,\n",
              " 'in bed': 1913,\n",
              " 'bed with': 479,\n",
              " 'watching the': 4551,\n",
              " 'the office': 3961,\n",
              " 'hot': 1825,\n",
              " 'look like': 2433,\n",
              " 'ahhh': 95,\n",
              " 'same': 3406,\n",
              " 'agree': 86,\n",
              " 'still': 3707,\n",
              " 'heard': 1736,\n",
              " 'about': 40,\n",
              " 'thingy': 4050,\n",
              " 'am still': 190,\n",
              " 'oh well': 3040,\n",
              " 'well have': 4600,\n",
              " 'about that': 44,\n",
              " 'is sad': 2051,\n",
              " 'soo': 3649,\n",
              " 'exhausted': 1171,\n",
              " 'feel': 1215,\n",
              " 'sick': 3527,\n",
              " 'cant': 692,\n",
              " 'anymore': 297,\n",
              " 'do this': 1004,\n",
              " 'london': 2421,\n",
              " 'one': 3090,\n",
              " 'most': 2676,\n",
              " 'ever': 1140,\n",
              " 'been': 480,\n",
              " 'is one': 2040,\n",
              " 'one of': 3097,\n",
              " 'of the': 3004,\n",
              " 'the most': 3950,\n",
              " 'have ever': 1674,\n",
              " 'been to': 485,\n",
              " 'is one of': 2041,\n",
              " 'one of the': 3099,\n",
              " 'yea': 4861,\n",
              " 'left': 2349,\n",
              " 'sarah': 3410,\n",
              " 'white': 4671,\n",
              " 'fly': 1280,\n",
              " 'ms': 2691,\n",
              " 'all': 107,\n",
              " 'agree with': 87,\n",
              " 'with you': 4760,\n",
              " 'watch': 4542,\n",
              " 'saw': 3415,\n",
              " 'drink': 1061,\n",
              " 'lil': 2388,\n",
              " 'wine': 4723,\n",
              " 'about to': 47,\n",
              " 'to watch': 4267,\n",
              " 'almost': 129,\n",
              " 'bought': 547,\n",
              " 'hat': 1660,\n",
              " 'thought': 4098,\n",
              " 'are': 309,\n",
              " 'somehow': 3636,\n",
              " 'today but': 4284,\n",
              " 'feel like': 1219,\n",
              " 'all the': 119,\n",
              " 'playing': 3232,\n",
              " 'game': 1409,\n",
              " 'hour': 1828,\n",
              " 'computer': 806,\n",
              " 'decided': 923,\n",
              " 'needs': 2805,\n",
              " 'could': 827,\n",
              " 'chance': 724,\n",
              " 'save': 3414,\n",
              " 'an hour': 214,\n",
              " 'and my': 251,\n",
              " 'my computer': 2725,\n",
              " 'needs to': 2806,\n",
              " 'could get': 830,\n",
              " 'chance to': 725,\n",
              " 'miss': 2628,\n",
              " 'having': 1715,\n",
              " 'store': 3720,\n",
              " 'lot': 2449,\n",
              " 'another': 290,\n",
              " 'loved': 2469,\n",
              " 'being': 491,\n",
              " 'own': 3159,\n",
              " 'shop': 3506,\n",
              " 'girl': 1458,\n",
              " 'lot of': 2450,\n",
              " 'of work': 3014,\n",
              " 'my own': 2766,\n",
              " 'missed': 2636,\n",
              " 'food': 1298,\n",
              " 'missed the': 2639,\n",
              " 'milk': 2618,\n",
              " 'together': 4291,\n",
              " 'do not': 976,\n",
              " 'not go': 2892,\n",
              " 'already': 135,\n",
              " 'reading': 3316,\n",
              " 'days': 909,\n",
              " 'good': 1520,\n",
              " 'heh': 1745,\n",
              " 'sounds good': 3669,\n",
              " 'hey': 1766,\n",
              " 'fam': 1193,\n",
              " 'show': 3519,\n",
              " 'tonight': 4301,\n",
              " 'sure': 3762,\n",
              " 'though': 4097,\n",
              " 'feels': 1228,\n",
              " 'havent': 1714,\n",
              " 'seen': 3464,\n",
              " 'hope you': 1815,\n",
              " 'you have': 4933,\n",
              " 'have great': 1679,\n",
              " 'tonight am': 4302,\n",
              " 'am sure': 195,\n",
              " 'sure you': 3765,\n",
              " 'you will': 4976,\n",
              " 'feels like': 1229,\n",
              " 'hope you have': 1817,\n",
              " 'you have great': 4934,\n",
              " 'uploading': 4424,\n",
              " 'photos': 3208,\n",
              " 'facebook': 1183,\n",
              " 'myspace': 2785,\n",
              " 'later': 2330,\n",
              " 'poor': 3246,\n",
              " 'little': 2402,\n",
              " 'has': 1652,\n",
              " 'cold': 780,\n",
              " 'need': 2797,\n",
              " 'sleep': 3559,\n",
              " 'my poor': 2769,\n",
              " 'little girl': 2404,\n",
              " 'cold and': 781,\n",
              " 'and need': 252,\n",
              " 'meet': 2590,\n",
              " 'friend': 1379,\n",
              " 'my new': 2763,\n",
              " 'best friend': 498,\n",
              " 'yeah': 4862,\n",
              " 'um': 4394,\n",
              " 'only': 3104,\n",
              " 'eye': 1178,\n",
              " 'around': 334,\n",
              " 'there': 4028,\n",
              " 'the only': 3964,\n",
              " 'think': 4051,\n",
              " 'can': 660,\n",
              " 'dance': 876,\n",
              " 'just got': 2223,\n",
              " 'got back': 1549,\n",
              " 'back from': 405,\n",
              " 'so you': 3623,\n",
              " 'you think': 4966,\n",
              " 'think you': 4070,\n",
              " 'you can': 4908,\n",
              " 'just got back': 2224,\n",
              " 'got back from': 1550,\n",
              " 'just got back from': 2225,\n",
              " 'goin': 1492,\n",
              " 'sleeping': 3566,\n",
              " 'tomorrow': 4297,\n",
              " 'sports': 3683,\n",
              " 'goin to': 1493,\n",
              " 'main': 2495,\n",
              " 'road': 3381,\n",
              " 'way': 4553,\n",
              " 'through': 4108,\n",
              " 'used': 4431,\n",
              " 'the way': 4005,\n",
              " 'is not': 2028,\n",
              " 'not being': 2875,\n",
              " 'all the way': 121,\n",
              " 'type': 4386,\n",
              " 'business': 586,\n",
              " 'that sucks': 3876,\n",
              " 'have you': 1712,\n",
              " 'website': 4581,\n",
              " 'couldnt': 835,\n",
              " 'find': 1252,\n",
              " 'add': 63,\n",
              " 'like that': 2378,\n",
              " 'you to': 4967,\n",
              " 'you as': 4901,\n",
              " 'weeks': 4589,\n",
              " 'copy': 822,\n",
              " 'wait': 4467,\n",
              " 'oops': 3112,\n",
              " 'goodnight': 1543,\n",
              " 'burned': 583,\n",
              " 'yes': 4876,\n",
              " 'we': 4558,\n",
              " 'happened': 1632,\n",
              " 'baby': 401,\n",
              " 'we do': 4564,\n",
              " 'do what': 1006,\n",
              " 'what happened': 4627,\n",
              " 'gonna': 1513,\n",
              " 'take': 3781,\n",
              " 'care': 704,\n",
              " 'he': 1719,\n",
              " 'strong': 3728,\n",
              " 'boy': 551,\n",
              " 'care of': 705,\n",
              " 'of that': 3003,\n",
              " 'and he': 236,\n",
              " 'he is': 1722,\n",
              " 'is gonna': 2004,\n",
              " 'gonna be': 1514,\n",
              " 'is for': 1997,\n",
              " 'for sure': 1335,\n",
              " 'is gonna be': 2005,\n",
              " 'hopefully': 1820,\n",
              " 'to sleep': 4242,\n",
              " 'good day': 1525,\n",
              " 'day tomorrow': 903,\n",
              " 'ok': 3044,\n",
              " 'msn': 2692,\n",
              " 'bit': 519,\n",
              " 'off': 3017,\n",
              " 'mo': 2648,\n",
              " 'dinner': 962,\n",
              " 'speak': 3676,\n",
              " 'will come': 4699,\n",
              " 'come on': 789,\n",
              " 'in bit': 1914,\n",
              " 'im off': 1899,\n",
              " 'off to': 3022,\n",
              " 'get my': 1430,\n",
              " 'to you': 4277,\n",
              " 'off to the': 3024,\n",
              " 'to get my': 4176,\n",
              " 'week': 4585,\n",
              " 'hand': 1620,\n",
              " 'have good': 1677,\n",
              " 'week and': 4586,\n",
              " 'hope the': 1812,\n",
              " 'starting': 3695,\n",
              " 'kim': 2275,\n",
              " 'need to': 2801,\n",
              " 'call me': 648,\n",
              " 'crazy': 849,\n",
              " 'her': 1756,\n",
              " 'songs': 3648,\n",
              " 'rid': 3374,\n",
              " 'recently': 3342,\n",
              " 'alot': 133,\n",
              " 'do you': 1008,\n",
              " 'think am': 4053,\n",
              " 'rid of': 3375,\n",
              " 'of them': 3008,\n",
              " 'davidarchie': 886,\n",
              " 'david': 885,\n",
              " 'cook': 818,\n",
              " 'both': 545,\n",
              " 'went to': 4609,\n",
              " 'both of': 546,\n",
              " 'of you': 3015,\n",
              " 'you are': 4897,\n",
              " 'actually': 60,\n",
              " 'is actually': 1976,\n",
              " 'job': 2188,\n",
              " 'again': 81,\n",
              " 'friends': 1381,\n",
              " 'my friends': 2740,\n",
              " 'now lol': 2972,\n",
              " 'voice': 4461,\n",
              " 'some': 3628,\n",
              " 'me too': 2575,\n",
              " 'you do': 4915,\n",
              " 'know that': 2295,\n",
              " 'that the': 3877,\n",
              " 'of your': 3016,\n",
              " 'is great': 2007,\n",
              " 'to do': 4160,\n",
              " 'do some': 1000,\n",
              " 'make': 2497,\n",
              " 'things': 4048,\n",
              " 'can make': 667,\n",
              " 'nooo': 2860,\n",
              " 'also': 137,\n",
              " 'accident': 54,\n",
              " 'airport': 100,\n",
              " 'called': 649,\n",
              " 'tired': 4130,\n",
              " 'didnt': 954,\n",
              " 'and got': 231,\n",
              " 'in to': 1951,\n",
              " 'to work': 4272,\n",
              " 'all day': 109,\n",
              " 'working': 4801,\n",
              " 'either': 1095,\n",
              " 'not working': 2947,\n",
              " 'for me': 1323,\n",
              " 'is not working': 2031,\n",
              " 'broken': 569,\n",
              " 'had': 1599,\n",
              " 'couple': 838,\n",
              " 'months': 2660,\n",
              " 'time to': 4125,\n",
              " 'out and': 3132,\n",
              " 'hmm': 1785,\n",
              " 'until': 4402,\n",
              " 'answer': 292,\n",
              " 'when': 4642,\n",
              " 'shit': 3501,\n",
              " 'college': 782,\n",
              " 'life': 2367,\n",
              " 'laugh': 2332,\n",
              " 'mtv': 2693,\n",
              " 'when was': 4652,\n",
              " 'made me': 2490,\n",
              " 'hate': 1661,\n",
              " 'think of': 4062,\n",
              " 'into': 1967,\n",
              " 'tear': 3808,\n",
              " 'my life': 2752,\n",
              " 'trying': 4356,\n",
              " 'many': 2519,\n",
              " 'people': 3192,\n",
              " 'follow': 1284,\n",
              " 'check': 735,\n",
              " 'cool': 821,\n",
              " 'at this': 373,\n",
              " 'trying to': 4357,\n",
              " 'to follow': 4174,\n",
              " 'follow me': 1285,\n",
              " 'check out': 738,\n",
              " 'out this': 3148,\n",
              " 'trying to get': 4359,\n",
              " 'heading': 1730,\n",
              " 'internet': 1965,\n",
              " 'next': 2823,\n",
              " 'home so': 1798,\n",
              " 'so no': 3607,\n",
              " 'the next': 3959,\n",
              " 'couple of': 839,\n",
              " 'for the next': 1344,\n",
              " 'waiting': 4477,\n",
              " 'dry': 1069,\n",
              " 'gotta': 1563,\n",
              " 'hair': 1616,\n",
              " 'makeup': 2510,\n",
              " 'xoxo': 4851,\n",
              " 'waiting for': 4478,\n",
              " 'for my': 1326,\n",
              " 'do my': 975,\n",
              " 'my hair': 2742,\n",
              " 'hates': 1668,\n",
              " 'while': 4670,\n",
              " 'bus': 585,\n",
              " 'likely': 2385,\n",
              " 'that he': 3852,\n",
              " 'had to': 1609,\n",
              " 'for while': 1353,\n",
              " 'the last': 3938,\n",
              " 'and will': 279,\n",
              " 'miss the': 2633,\n",
              " 'sims': 3538,\n",
              " 'perhaps': 3198,\n",
              " 'monday': 2655,\n",
              " 'going': 1494,\n",
              " 'dont': 1034,\n",
              " 'wanna': 4488,\n",
              " 'going to': 1501,\n",
              " 'to see': 4232,\n",
              " 'dont wanna': 1040,\n",
              " 'wanna go': 4490,\n",
              " 'going to see': 1508,\n",
              " 'ha': 1597,\n",
              " 'than': 3822,\n",
              " 'thank': 3825,\n",
              " 'god': 1489,\n",
              " 'here': 1759,\n",
              " 'sleepy': 3567,\n",
              " 'rock': 3382,\n",
              " 'thank god': 3826,\n",
              " 'on my': 3059,\n",
              " 'my bed': 2715,\n",
              " 'cant sleep': 696,\n",
              " 'painting': 3170,\n",
              " 'want': 4493,\n",
              " 'want to': 4497,\n",
              " 'to but': 4149,\n",
              " 'but am': 589,\n",
              " 'not sure': 2930,\n",
              " 'but am not': 590,\n",
              " 'apparently': 306,\n",
              " 'entire': 1120,\n",
              " 'state': 3698,\n",
              " 'pa': 3160,\n",
              " 'there are': 4030,\n",
              " 'morning': 2669,\n",
              " 'good morning': 1532,\n",
              " 'heck': 1743,\n",
              " 'year': 4869,\n",
              " 'lack': 2310,\n",
              " 'are you': 328,\n",
              " 'it up': 2151,\n",
              " 'up again': 4404,\n",
              " 'this year': 4094,\n",
              " 'out for': 3135,\n",
              " 'lack of': 2311,\n",
              " 'biggest': 512,\n",
              " 'fan': 1196,\n",
              " 'philippines': 3204,\n",
              " 'come to': 792,\n",
              " 'suppose': 3757,\n",
              " 'interview': 1966,\n",
              " 'true': 4349,\n",
              " 'him': 1775,\n",
              " 'his': 1779,\n",
              " 'with my': 4753,\n",
              " 'love him': 2456,\n",
              " 'after': 76,\n",
              " 'dancing': 877,\n",
              " 'shoes': 3503,\n",
              " 'feet': 1230,\n",
              " 'question': 3299,\n",
              " 'worth': 4814,\n",
              " 'worth it': 4815,\n",
              " 'hoping': 1822,\n",
              " 'old': 3048,\n",
              " 'tip': 4129,\n",
              " 'top': 4320,\n",
              " 'the old': 3962,\n",
              " 'not feeling': 2884,\n",
              " 'will have': 4704,\n",
              " 'have fun': 1675,\n",
              " 'something': 3641,\n",
              " 'house': 1831,\n",
              " 'scary': 3429,\n",
              " 'alone': 130,\n",
              " 'about my': 43,\n",
              " 'my house': 2744,\n",
              " 'and am': 217,\n",
              " 'am home': 166,\n",
              " 'beautiful': 469,\n",
              " 'oo': 3108,\n",
              " 'xx': 4852,\n",
              " 'beautiful day': 470,\n",
              " 'ugh': 4388,\n",
              " 'ate': 377,\n",
              " 'tummy': 4361,\n",
              " 'ache': 56,\n",
              " 'too much': 4318,\n",
              " 'now have': 2964,\n",
              " 'yay': 4859,\n",
              " 'loving': 2475,\n",
              " 'chicken': 747,\n",
              " 'wings': 4724,\n",
              " 'finger': 1259,\n",
              " 'loving the': 2476,\n",
              " 'it is': 2107,\n",
              " 'final': 1247,\n",
              " 'have my': 1686,\n",
              " 'midnight': 2608,\n",
              " 'mention': 2596,\n",
              " 'kids': 2267,\n",
              " 'school': 3431,\n",
              " 'cannot': 676,\n",
              " 'kind': 2276,\n",
              " 'energy': 1109,\n",
              " 'and it': 242,\n",
              " 'it has': 2103,\n",
              " 'has been': 1653,\n",
              " 'of school': 3000,\n",
              " 'have that': 1700,\n",
              " 'kind of': 2277,\n",
              " 'yet': 4884,\n",
              " 'not know': 2907,\n",
              " 'know you': 2305,\n",
              " 'you that': 4963,\n",
              " 'do not know': 985,\n",
              " 'single': 3543,\n",
              " 'birds': 516,\n",
              " 'shot': 3510,\n",
              " 'officially': 3029,\n",
              " 'middle': 2606,\n",
              " 'my baby': 2712,\n",
              " 'is now': 2033,\n",
              " 'tell': 3811,\n",
              " 'that to': 3880,\n",
              " 'and all': 216,\n",
              " 'losing': 2444,\n",
              " 'fast': 1202,\n",
              " 'you ever': 4919,\n",
              " 'finish': 1262,\n",
              " 'am at': 148,\n",
              " 'to finish': 4172,\n",
              " 'up so': 4413,\n",
              " 'so can': 3581,\n",
              " 'can get': 664,\n",
              " 'here and': 1760,\n",
              " 'out to': 3149,\n",
              " 'get out of': 1434,\n",
              " 'keep': 2255,\n",
              " 'xxxx': 4854,\n",
              " 'to keep': 4205,\n",
              " 'up with': 4418,\n",
              " 'with the': 4757,\n",
              " 'song': 3647,\n",
              " 'youll': 4980,\n",
              " 'heart': 1738,\n",
              " 'ipod': 1972,\n",
              " 'xd': 4849,\n",
              " 'wondering': 4777,\n",
              " 'anybody': 296,\n",
              " 'just found': 2220,\n",
              " 'be in': 453,\n",
              " 'my ipod': 2747,\n",
              " 'all this': 122,\n",
              " 'walk': 4485,\n",
              " 'hear': 1733,\n",
              " 'dead': 917,\n",
              " 'doll': 1030,\n",
              " 'miami': 2604,\n",
              " 'laughing': 2333,\n",
              " 'hanging': 1625,\n",
              " 'just made': 2237,\n",
              " 'hanging out': 1626,\n",
              " 'out with': 3151,\n",
              " 'them and': 4021,\n",
              " 'hanging out with': 1627,\n",
              " 'daddy': 870,\n",
              " 'hahaha': 1614,\n",
              " 'wow': 4833,\n",
              " 'huge': 1855,\n",
              " 'congrats': 810,\n",
              " 'to her': 4201,\n",
              " 'camp': 658,\n",
              " 'full': 1396,\n",
              " 'nuts': 2982,\n",
              " 'is at': 1983,\n",
              " 'full of': 1397,\n",
              " 'weekend': 4587,\n",
              " 'had the': 1608,\n",
              " 'in long': 1927,\n",
              " 'long time': 2426,\n",
              " 'does': 1013,\n",
              " 'suck': 3742,\n",
              " 'following': 1295,\n",
              " 'ily': 1892,\n",
              " 'following you': 1297,\n",
              " 'via': 4453,\n",
              " 'that is the': 3858,\n",
              " 'early': 1084,\n",
              " 'cannot sleep': 686,\n",
              " 'sleep and': 3560,\n",
              " 'and have': 234,\n",
              " 'have to': 1703,\n",
              " 'to be': 4141,\n",
              " 'be up': 464,\n",
              " 'and have to': 235,\n",
              " 'have to be': 1704,\n",
              " 'to be up': 4145,\n",
              " 'adorable': 73,\n",
              " 'funny': 1405,\n",
              " 'finished': 1263,\n",
              " 'cannot wait': 687,\n",
              " 'wait to': 4472,\n",
              " 'see the': 3451,\n",
              " 'cannot wait to': 690,\n",
              " 'wait to see': 4474,\n",
              " 'to see the': 4236,\n",
              " 'cannot wait to see': 691,\n",
              " 'missin': 2642,\n",
              " 'maybe': 2536,\n",
              " 'catch': 711,\n",
              " 'nap': 2791,\n",
              " 'maybe you': 2538,\n",
              " 'ddlovato': 915,\n",
              " 'ill': 1890,\n",
              " 'you when': 4975,\n",
              " 'when you': 4655,\n",
              " 'you get': 4925,\n",
              " 'get here': 1425,\n",
              " 'when you get': 4656,\n",
              " 'sooooo': 3654,\n",
              " 'chillin': 751,\n",
              " 'missed my': 2638,\n",
              " 'piece': 3218,\n",
              " 'fell': 1231,\n",
              " 'iphone': 1971,\n",
              " 'tiny': 4128,\n",
              " 'between': 506,\n",
              " 'button': 635,\n",
              " 'lost': 2446,\n",
              " 'off my': 3020,\n",
              " 'my iphone': 2746,\n",
              " 'and the': 267,\n",
              " 'it is the': 2123,\n",
              " 'wanting': 4506,\n",
              " 'sitting at': 3552,\n",
              " 'why': 4677,\n",
              " 'was not': 4527,\n",
              " 'not there': 2934,\n",
              " 'dat': 882,\n",
              " 'cell': 720,\n",
              " 'phone': 3205,\n",
              " 'stay': 3701,\n",
              " 'longer': 2428,\n",
              " 'just to': 2245,\n",
              " 'him to': 1777,\n",
              " 'to stay': 4245,\n",
              " 'is up': 2072,\n",
              " 'up for': 4408,\n",
              " 'excited to': 1168,\n",
              " 'ready for work': 3320,\n",
              " 'told': 4292,\n",
              " 'happening': 1634,\n",
              " 'wish': 4726,\n",
              " 'not to': 2936,\n",
              " 'so what': 3621,\n",
              " 'myself': 2784,\n",
              " 'nothing': 2951,\n",
              " 'besides': 496,\n",
              " 'this weekend': 4093,\n",
              " 'catch up': 712,\n",
              " 'the time': 3994,\n",
              " 'all the time': 120,\n",
              " 'looking': 2435,\n",
              " 'forward': 1363,\n",
              " 'looking forward': 2438,\n",
              " 'forward to': 1364,\n",
              " 'looking forward to': 2439,\n",
              " 'mean': 2583,\n",
              " 'guess': 1587,\n",
              " 'never': 2812,\n",
              " 'grow': 1584,\n",
              " 'you never': 4952,\n",
              " 'these': 4036,\n",
              " 'learn': 2341,\n",
              " 'just need': 2239,\n",
              " 'to learn': 4207,\n",
              " 'miles': 2615,\n",
              " 'hills': 1774,\n",
              " 'any': 293,\n",
              " 'rocks': 3383,\n",
              " 'picnic': 3214,\n",
              " 'our': 3130,\n",
              " 'area': 330,\n",
              " 'any more': 294,\n",
              " 'does not': 1016,\n",
              " 'not do': 2879,\n",
              " 'do that': 1002,\n",
              " 'the summer': 3990,\n",
              " 'coffee': 779,\n",
              " 'workout': 4804,\n",
              " 'not forget': 2887,\n",
              " 'gonna get': 1516,\n",
              " 'do not forget': 981,\n",
              " 'mall': 2514,\n",
              " 'took': 4319,\n",
              " 'mins': 2625,\n",
              " 'lost my': 2448,\n",
              " 'the mall': 3944,\n",
              " 'to find': 4171,\n",
              " 'woke': 4767,\n",
              " 'kinda': 2278,\n",
              " 'warm': 4510,\n",
              " 'sore': 3655,\n",
              " 'throat': 4107,\n",
              " 'allergies': 126,\n",
              " 'swine': 3777,\n",
              " 'woke up': 4768,\n",
              " 'sore throat': 3656,\n",
              " 'whenever': 4658,\n",
              " 'possible': 3250,\n",
              " 'clean': 761,\n",
              " 'is fun': 1998,\n",
              " 'music': 2705,\n",
              " 'project': 3283,\n",
              " 'fresh': 1375,\n",
              " 'different': 960,\n",
              " 'free': 1373,\n",
              " 'of my': 2997,\n",
              " 'down': 1046,\n",
              " 'of my life': 2998,\n",
              " 'yo': 4885,\n",
              " 'ya': 4855,\n",
              " 'will be': 4694,\n",
              " 'be there': 463,\n",
              " ...}"
            ]
          },
          "metadata": {},
          "execution_count": 96
        }
      ]
    },
    {
      "cell_type": "code",
      "source": [
        "clf.predict(tfidf.transform([x]))"
      ],
      "metadata": {
        "colab": {
          "base_uri": "https://localhost:8080/"
        },
        "id": "pHwFZwLSCfqq",
        "outputId": "eaf0af47-281e-49b7-9fab-f984d5594a87"
      },
      "execution_count": 97,
      "outputs": [
        {
          "output_type": "execute_result",
          "data": {
            "text/plain": [
              "array([1])"
            ]
          },
          "metadata": {},
          "execution_count": 97
        }
      ]
    },
    {
      "cell_type": "markdown",
      "source": [
        "## Real-Time Twitter Sentiment Analysis"
      ],
      "metadata": {
        "id": "9sq8dmqYI2zA"
      }
    },
    {
      "cell_type": "code",
      "source": [
        "!pip install tweepy\n",
        "\n",
        "from google.colab import userdata\n",
        "# userdata.get('consumer_key') # X developer Client ID\n",
        "# userdata.get('consumer_secret') # X developer Client Secret\n",
        "# userdata.get('access_token') # X developer Access Token\n",
        "# userdata.get('access_token_secret') # X developer Access Secret"
      ],
      "metadata": {
        "colab": {
          "base_uri": "https://localhost:8080/"
        },
        "id": "9X0IkjdGCrYI",
        "outputId": "91cf8731-fd0a-4042-8bb8-1f5d567c8233"
      },
      "execution_count": 98,
      "outputs": [
        {
          "output_type": "stream",
          "name": "stdout",
          "text": [
            "Requirement already satisfied: tweepy in /usr/local/lib/python3.10/dist-packages (4.14.0)\n",
            "Requirement already satisfied: oauthlib<4,>=3.2.0 in /usr/local/lib/python3.10/dist-packages (from tweepy) (3.2.2)\n",
            "Requirement already satisfied: requests<3,>=2.27.0 in /usr/local/lib/python3.10/dist-packages (from tweepy) (2.31.0)\n",
            "Requirement already satisfied: requests-oauthlib<2,>=1.2.0 in /usr/local/lib/python3.10/dist-packages (from tweepy) (1.3.1)\n",
            "Requirement already satisfied: charset-normalizer<4,>=2 in /usr/local/lib/python3.10/dist-packages (from requests<3,>=2.27.0->tweepy) (3.3.2)\n",
            "Requirement already satisfied: idna<4,>=2.5 in /usr/local/lib/python3.10/dist-packages (from requests<3,>=2.27.0->tweepy) (3.7)\n",
            "Requirement already satisfied: urllib3<3,>=1.21.1 in /usr/local/lib/python3.10/dist-packages (from requests<3,>=2.27.0->tweepy) (2.0.7)\n",
            "Requirement already satisfied: certifi>=2017.4.17 in /usr/local/lib/python3.10/dist-packages (from requests<3,>=2.27.0->tweepy) (2024.6.2)\n"
          ]
        }
      ]
    },
    {
      "cell_type": "code",
      "source": [
        "import tweepy\n",
        "\n",
        "#auth = tweepy.OAuth2BearerHandler(userdata.get('bearer_token'))\n",
        "\n",
        "#auth = tweepy.Client(userdata.get('consumer_key'), userdata.get('consumer_secret'), userdata.get('access_token'), userdata.get('access_token_secret'))\n",
        "\n",
        "\n",
        "#api = tweepy.API(auth)\n",
        "\n",
        "#public_tweets = api.home_timeline()\n",
        "\n",
        "#client = tweepy.Client(userdata.get('bearer_token'), userdata.get('consumer_key'), userdata.get('consumer_secret'), userdata.get('access_token'), userdata.get('access_token_secret'))\n",
        "\n",
        "#public_tweets = client.get_home_timeline()\n",
        "\n",
        "#public_tweets"
      ],
      "metadata": {
        "id": "nTDp0nc2Pce5"
      },
      "execution_count": 99,
      "outputs": []
    }
  ]
}